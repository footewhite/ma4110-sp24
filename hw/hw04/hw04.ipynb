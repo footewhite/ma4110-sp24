{
 "cells": [
  {
   "cell_type": "code",
   "execution_count": null,
   "id": "b98e7d19",
   "metadata": {
    "deletable": false,
    "editable": false
   },
   "outputs": [],
   "source": [
    "# Initialize Otter\n",
    "import otter\n",
    "grader = otter.Notebook(\"hw04.ipynb\")"
   ]
  },
  {
   "cell_type": "markdown",
   "id": "a3a60495",
   "metadata": {
    "id": "laughing-tuition"
   },
   "source": [
    "# Homework 04: Functions, Histograms and Groups\n",
    "\n",
    "Please complete this notebook by filling in the cells provided. Before you begin, execute the following cell to load the provided modules. Each time you start your server, you will need to execute this cell again to load the modules."
   ]
  },
  {
   "cell_type": "code",
   "execution_count": null,
   "id": "dd622eaa",
   "metadata": {
    "id": "tough-modification"
   },
   "outputs": [],
   "source": [
    "# Don't change this cell; just run it. \n",
    "import numpy as np\n",
    "from datascience import *\n",
    "\n",
    "import matplotlib\n",
    "%matplotlib inline\n",
    "import matplotlib.pyplot as plt\n",
    "plt.style.use('fivethirtyeight')"
   ]
  },
  {
   "cell_type": "markdown",
   "id": "acdb100c",
   "metadata": {
    "id": "proper-complex"
   },
   "source": [
    "**Recommended Reading:** \n",
    "\n",
    "* [Visualizing Numerical Distributions](https://inferentialthinking.com/chapters/07/2/Visualizing_Numerical_Distributions.html) \n",
    "\n",
    "* [Functions and Tables](https://inferentialthinking.com/chapters/08/Functions_and_Tables.html)"
   ]
  },
  {
   "cell_type": "markdown",
   "id": "15e0ab1d",
   "metadata": {
    "id": "demonstrated-diagram"
   },
   "source": [
    "For all problems that you must write explanations and sentences for, you **must** provide your answer in the designated space. Moreover, throughout this homework and all future ones, please be sure to not re-assign variables throughout the notebook! For example, if you use `max_temperature` in your answer to one question, do not reassign it later on. Otherwise, you will fail tests that you thought you were passing previously!\n",
    "\n",
    "\n",
    "**Notes:** \n",
    "\n",
    "- Start early so that you can come to office hours if you're stuck. Check the course website for the office hours schedule. Late work will not be accepted as per the course expectations. Late work will not be accepted without advanced permission as per the course expectations document, so plan accordingly. You should start early so that you have time to get help if you're stuck. Office hours are held throughout the week, so be sure to use them if needed.\n",
    "\n",
    "- This homework has hidden tests on it. That means even though tests may say 100% passed, doesn't mean your final grade will be 100%. Additional tests will be run once your homework is submitted to Gradescope**. Many of the tests you have access to before submitting only test to ensure you have given an answer that is formatted correctly and not super far off the expected answer. The tests that are run after submission will evaluate accuracy more carefully. Do not assume that just because all your tests pass means that your answers are correct!\n",
    "\n",
    "- Directly sharing answers is **not** okay, but discussing problems with the course staff (teacher and TAs) or with other students is encouraged. Refer to the course expectations document to learn more about how to learn and work cooperatively."
   ]
  },
  {
   "cell_type": "markdown",
   "id": "d96d6875",
   "metadata": {
    "id": "sized-smell"
   },
   "source": [
    "## 1. Burrito-ful San Diego"
   ]
  },
  {
   "cell_type": "markdown",
   "id": "b26c38e9",
   "metadata": {
    "id": "worthy-amber"
   },
   "source": [
    "Tam, Margaret and Winifred are trying to use Data Science to find the best burritos in San Diego! Their friends Irene and Maya provided them with two comprehensive datasets on many burrito establishments in the San Diego area taken from (and cleaned from): https://www.kaggle.com/srcole/burritos-in-san-diego/data.\n",
    "\n",
    "The following cell reads in a table called `ratings` which contains names of burrito restaurants, their Yelp rating, Google rating, as well as their Overall rating. It also reads in a table called `burritos_types` which contains names of burrito restaurants, their menu items, and the cost of the respective menu item at the restaurant."
   ]
  },
  {
   "cell_type": "code",
   "execution_count": null,
   "id": "50f5bb97",
   "metadata": {
    "id": "political-bridges",
    "outputId": "795c847b-4e8f-4e6a-9c67-350670a6fe5d"
   },
   "outputs": [],
   "source": [
    "# Just run this cell\n",
    "ratings = Table.read_table(\"data/ratings.csv\")\n",
    "ratings.show(5)\n",
    "burritos_types = Table.read_table(\"data/burritos_types.csv\")\n",
    "burritos_types.show(5)"
   ]
  },
  {
   "cell_type": "markdown",
   "id": "20f86d09",
   "metadata": {
    "deletable": false,
    "editable": false
   },
   "source": [
    "**Question 1.** It would be easier if we could combine the information in both tables. Assign `burritos` to the result of joining the two tables together.\n",
    "\n",
    "**Note:** it doesn't matter which table you put in as the argument to the table method, either order will work for the autograder tests.\n",
    "\n",
    "**Hint:** If you need refreshers on table methods, look at the [python reference](http://data8.org/sp20/python-reference.html)."
   ]
  },
  {
   "cell_type": "code",
   "execution_count": null,
   "id": "a6d1367d",
   "metadata": {
    "id": "every-cream",
    "outputId": "e2913398-c3aa-48bf-f08d-ace95f00e913",
    "tags": []
   },
   "outputs": [],
   "source": [
    "burritos = ...\n",
    "burritos.show(5)"
   ]
  },
  {
   "cell_type": "code",
   "execution_count": null,
   "id": "eaec84c0",
   "metadata": {
    "deletable": false,
    "editable": false
   },
   "outputs": [],
   "source": [
    "grader.check(\"q1\")"
   ]
  },
  {
   "cell_type": "markdown",
   "id": "f90330ba",
   "metadata": {
    "deletable": false,
    "editable": false
   },
   "source": [
    "<!-- BEGIN QUESTION -->\n",
    "\n",
    "**Question 2.** Let's look at how the Yelp scores compare to the Google scores in the `burritos` table. First, assign `yelp_and_google` to a table only containing the columns `Yelp` and `Google`. Then, make a scatter plot with Yelp scores on the x-axis and the Google scores on the $y-$axis. \n"
   ]
  },
  {
   "cell_type": "code",
   "execution_count": null,
   "id": "a4076d1e",
   "metadata": {
    "id": "threatened-trading",
    "outputId": "a8ad7689-d9dc-439d-87d8-5b700fce8bb2",
    "tags": []
   },
   "outputs": [],
   "source": [
    "yelp_and_google = ...\n",
    "...\n",
    "# Don't change/edit/remove the following line.\n",
    "# To help you make conclusions, we have plotted a straight line on the graph (y=x)\n",
    "plt.plot(np.arange(2.5,5,.5), np.arange(2.5,5,.5));"
   ]
  },
  {
   "cell_type": "markdown",
   "id": "db3e21cd",
   "metadata": {
    "deletable": false,
    "editable": false
   },
   "source": [
    "<!-- END QUESTION -->\n",
    "\n",
    "<!-- BEGIN QUESTION -->\n",
    "\n",
    "**Question 3.** Looking at the scatter plot you just made in **Question 2.**, do you notice any pattern(s) (i.e. is one of the two types of scores consistently higher than the other one, is there any association between the two)? If so, describe them **briefly** in the cell below.\n"
   ]
  },
  {
   "cell_type": "markdown",
   "id": "1fbb0193",
   "metadata": {},
   "source": [
    "_Type your answer here, replacing this text._"
   ]
  },
  {
   "cell_type": "markdown",
   "id": "995013cd",
   "metadata": {
    "deletable": false,
    "editable": false,
    "id": "alternative-leadership"
   },
   "source": [
    "<!-- END QUESTION -->\n",
    "\n",
    "Here's a refresher on how `.group` works! You can read how `.group` works in the [textbook](https://www.inferentialthinking.com/chapters/08/2/Classifying_by_One_Variable.html), or you can view the video below. "
   ]
  },
  {
   "cell_type": "code",
   "execution_count": null,
   "id": "bc8de5ec",
   "metadata": {
    "id": "offensive-charles",
    "outputId": "9eb6bce3-4fb1-495b-c612-56edf8095745"
   },
   "outputs": [],
   "source": [
    "from IPython.display import YouTubeVideo\n",
    "YouTubeVideo(\"HLoYTCUP0fc\")"
   ]
  },
  {
   "cell_type": "markdown",
   "id": "6e13365a",
   "metadata": {
    "deletable": false,
    "editable": false
   },
   "source": [
    "**Question 4.** From the `burritos` table, some of the restaurant locations have multiple reviews. Winifred thinks California burritos are the best type of burritos, and wants to see the average overall rating for California burritos at each location. Create a table that has two columns: the name of the restaurant and the average overall rating of California burritos at each location.\n",
    "\n",
    "**Tip:** Revisit the burritos table to see how California burritos are represented.\n",
    "\n",
    "**Note:** You can break up the solution into multiple lines, as long as you assign the final output table to `california_burritos`! For reference however, the instructor solution only used one line.\n"
   ]
  },
  {
   "cell_type": "code",
   "execution_count": null,
   "id": "8fe5702d",
   "metadata": {
    "id": "micro-rogers",
    "outputId": "05d53ead-95dc-4186-8e6b-c4b674619cd2",
    "tags": []
   },
   "outputs": [],
   "source": [
    "california_burritos = ...\n",
    "california_burritos"
   ]
  },
  {
   "cell_type": "code",
   "execution_count": null,
   "id": "2b568281",
   "metadata": {
    "deletable": false,
    "editable": false
   },
   "outputs": [],
   "source": [
    "grader.check(\"q4\")"
   ]
  },
  {
   "cell_type": "markdown",
   "id": "91d3c554",
   "metadata": {
    "deletable": false,
    "editable": false
   },
   "source": [
    "**Question 5.** Given this new table `california_burritos`, Winifred can figure out the name of the restaurant with the highest overall average rating! Assign `best_restaurant` to a line of code that evaluates to a string that corresponds to the name of the restaurant with the highest overall average rating. \n"
   ]
  },
  {
   "cell_type": "code",
   "execution_count": null,
   "id": "855079c3",
   "metadata": {
    "id": "valid-stylus",
    "outputId": "9f69cb7f-572c-4cad-ad37-32b1f8e53cca",
    "tags": []
   },
   "outputs": [],
   "source": [
    "best_restaurant = ...\n",
    "best_restaurant"
   ]
  },
  {
   "cell_type": "code",
   "execution_count": null,
   "id": "1aec18a3",
   "metadata": {
    "deletable": false,
    "editable": false
   },
   "outputs": [],
   "source": [
    "grader.check(\"q5\")"
   ]
  },
  {
   "cell_type": "markdown",
   "id": "b022bc35",
   "metadata": {
    "deletable": false,
    "editable": false
   },
   "source": [
    "<!-- BEGIN QUESTION -->\n",
    "\n",
    "**Question 6.** Tam thinks that burritos in San Diego are cheaper (and taste better) than the burritos in Berkeley. Plot a histogram that visualizes that distribution of the costs of the burritos from San Diego in the `burritos` table. Also use the provided `bins` variable when making your histogram, so that visually the histogram is more informative.\n"
   ]
  },
  {
   "cell_type": "code",
   "execution_count": null,
   "id": "6cccfd8c",
   "metadata": {
    "id": "directed-termination",
    "outputId": "e97781ef-2db5-4a68-c8f4-e4431f997b38",
    "tags": []
   },
   "outputs": [],
   "source": [
    "my_bins = np.arange(0, 15, 1)\n",
    "# Please also use the provided bins\n",
    "..."
   ]
  },
  {
   "cell_type": "markdown",
   "id": "1557bb0a",
   "metadata": {
    "deletable": false,
    "editable": false,
    "id": "provincial-tennessee"
   },
   "source": [
    "<!-- END QUESTION -->\n",
    "\n",
    "## 2. Faculty Salaries"
   ]
  },
  {
   "cell_type": "markdown",
   "id": "ed692116",
   "metadata": {
    "id": "arabic-detective"
   },
   "source": [
    "This exercise is designed to give you practice using the Table methods `pivot` and `group`. [Here](http://data8.org/sp21/python-reference.html) is a link to the Python reference page in case you need a quick refresher.\n",
    "\n",
    "Run the cell below to view a demo on how you can use pivot on a table."
   ]
  },
  {
   "cell_type": "code",
   "execution_count": null,
   "id": "f03b6895",
   "metadata": {
    "id": "small-upper",
    "outputId": "ffe012d0-26c6-4aca-da80-c97105037e28"
   },
   "outputs": [],
   "source": [
    "from IPython.display import YouTubeVideo\n",
    "YouTubeVideo(\"4WzXo8eKLAg\")"
   ]
  },
  {
   "cell_type": "markdown",
   "id": "e41b8a53",
   "metadata": {
    "id": "running-peter"
   },
   "source": [
    "In the next cell, we load a dataset maintained by the University of North Carolina System Office which contains information on UNC System faculty including their institution, age, job category, and base salary as of December 2020."
   ]
  },
  {
   "cell_type": "code",
   "execution_count": null,
   "id": "216d969f",
   "metadata": {
    "id": "north-factory",
    "outputId": "ec8e5f4d-cd91-4e5a-d5e1-e2eca37e5684"
   },
   "outputs": [],
   "source": [
    "# Just run this cell\n",
    "unc = Table.read_table(\"data/unc_faculty.csv\").drop('INITIAL HIRE DATE', 'EMPLOYEE HOME DEPARTMENT', 'PRIMARY WORKING TITLE').relabeled('INSTITUTION NAME', 'School Name').relabeled('AGE', 'Age').relabeled('JOB CATEGORY', 'Title').relabeled('EMPLOYEE ANNUAL BASE SALARY', 'Salary')\n",
    "unc"
   ]
  },
  {
   "cell_type": "markdown",
   "id": "bd7911ef",
   "metadata": {
    "deletable": false,
    "editable": false
   },
   "source": [
    "**Question 7.** Set `average_unc_stats` to a table with 4 columns that shows the average age and salary for each combination of `School Name` and `Title` found in the `unc` table. For example, you should be able to determine the average age and salary for an Assistant Professor at ASU by looking up the corresponding row in the table you create.\n",
    "\n",
    "**Hint:** Use the `.group` method to create this table. You may get a warning about creating an array from \"ragged nested sequences\". It is safe to ignore.\n"
   ]
  },
  {
   "cell_type": "code",
   "execution_count": null,
   "id": "4cab05ae",
   "metadata": {
    "id": "suffering-information",
    "outputId": "71bf861a-3e51-4553-ba50-f01a3afd388c",
    "tags": []
   },
   "outputs": [],
   "source": [
    "average_unc_stats = ...\n",
    "average_unc_stats"
   ]
  },
  {
   "cell_type": "code",
   "execution_count": null,
   "id": "d908aa51",
   "metadata": {
    "deletable": false,
    "editable": false
   },
   "outputs": [],
   "source": [
    "grader.check(\"q7\")"
   ]
  },
  {
   "cell_type": "markdown",
   "id": "e2dd9b32",
   "metadata": {
    "deletable": false,
    "editable": false
   },
   "source": [
    "**Question 8.** Now create a pivot table assigned to `unc_pivot` that has each `School Name` for the column labels and a row that corresponds to each unique `Title`. The values in each column should be the average age for each `Title` at that school.\n"
   ]
  },
  {
   "cell_type": "code",
   "execution_count": null,
   "id": "2102f9bc",
   "metadata": {
    "id": "complimentary-engineering",
    "outputId": "f8a1cf42-effd-4d09-c62a-6e372d53b9a7",
    "tags": []
   },
   "outputs": [],
   "source": [
    "unc_pivot = ...\n",
    "unc_pivot"
   ]
  },
  {
   "cell_type": "code",
   "execution_count": null,
   "id": "c0b838fa",
   "metadata": {
    "deletable": false,
    "editable": false
   },
   "outputs": [],
   "source": [
    "grader.check(\"q8\")"
   ]
  },
  {
   "cell_type": "markdown",
   "id": "346ec76f",
   "metadata": {
    "deletable": false,
    "editable": false
   },
   "source": [
    "**Question 9.** Write your own function named `salary_range` that can take in an array of salaries and returns the range (the smallest salary subtracted from the the largest salary) in that array.\n"
   ]
  },
  {
   "cell_type": "code",
   "execution_count": null,
   "id": "71766f40-8cb3-4570-ae55-6464b2471126",
   "metadata": {
    "tags": []
   },
   "outputs": [],
   "source": [
    "def salary_range(...):\n",
    "    ..."
   ]
  },
  {
   "cell_type": "code",
   "execution_count": null,
   "id": "23c94371",
   "metadata": {
    "deletable": false,
    "editable": false
   },
   "outputs": [],
   "source": [
    "grader.check(\"q9\")"
   ]
  },
  {
   "cell_type": "markdown",
   "id": "accaf5a3",
   "metadata": {
    "deletable": false,
    "editable": false
   },
   "source": [
    "**Question 10.** Set `job_ranges` to a table containing Titles as the rows, and the School as the columns. The values in the rows should correspond to the salary range for the job, where the range is calculated using the `salary_range` function you wrote in **Question 9.**\n"
   ]
  },
  {
   "cell_type": "code",
   "execution_count": null,
   "id": "9c797761",
   "metadata": {
    "id": "innocent-heater",
    "outputId": "34252fd3-5e79-4c3b-8738-c1f56c216e5b",
    "tags": []
   },
   "outputs": [],
   "source": [
    "job_ranges = ...\n",
    "job_ranges"
   ]
  },
  {
   "cell_type": "code",
   "execution_count": null,
   "id": "4021df59",
   "metadata": {
    "deletable": false,
    "editable": false
   },
   "outputs": [],
   "source": [
    "grader.check(\"q10\")"
   ]
  },
  {
   "cell_type": "markdown",
   "id": "e71a6faf",
   "metadata": {
    "deletable": false,
    "editable": false
   },
   "source": [
    "## Submission\n",
    "\n",
    "Make sure you have run all cells in your notebook in order before running the cell below, so that all images/graphs appear in the output. The cell below will generate a zip file for you to submit. **Please save before exporting!**\n",
    "\n",
    "When done exporting, download the .zip file by finding it in the file browswer on the left side of the screen, then right-click and select **Download**. You'll submit this .zip file for the assignment in Canvas to Gradescope for grading."
   ]
  },
  {
   "cell_type": "code",
   "execution_count": null,
   "id": "f1ce4d6e",
   "metadata": {
    "deletable": false,
    "editable": false
   },
   "outputs": [],
   "source": [
    "# Save your notebook first, then run this cell to export your submission.\n",
    "grader.export(pdf=False, run_tests=True)"
   ]
  },
  {
   "cell_type": "markdown",
   "id": "e80137e4",
   "metadata": {},
   "source": [
    " "
   ]
  }
 ],
 "metadata": {
  "colab": {
   "name": "hw04.ipynb",
   "provenance": []
  },
  "kernelspec": {
   "display_name": "Python 3 (ipykernel)",
   "language": "python",
   "name": "python3"
  },
  "language_info": {
   "codemirror_mode": {
    "name": "ipython",
    "version": 3
   },
   "file_extension": ".py",
   "mimetype": "text/x-python",
   "name": "python",
   "nbconvert_exporter": "python",
   "pygments_lexer": "ipython3",
   "version": "3.11.5"
  },
  "otter": {
   "OK_FORMAT": true,
   "tests": {
    "q1": {
     "name": "q1",
     "points": null,
     "suites": [
      {
       "cases": [
        {
         "code": ">>> set(['Name', 'Menu_Item', 'Yelp', 'Google', 'Overall', 'Cost']) == set(burritos.labels)\nTrue",
         "hidden": false,
         "locked": false
        },
        {
         "code": ">>> burritos.num_rows\n212",
         "hidden": false,
         "locked": false
        }
       ],
       "scored": true,
       "setup": "",
       "teardown": "",
       "type": "doctest"
      }
     ]
    },
    "q10": {
     "name": "q10",
     "points": null,
     "suites": [
      {
       "cases": [
        {
         "code": ">>> job_ranges.num_columns\n17",
         "hidden": false,
         "locked": false
        },
        {
         "code": ">>> job_ranges.num_rows\n6",
         "hidden": false,
         "locked": false
        }
       ],
       "scored": true,
       "setup": "",
       "teardown": "",
       "type": "doctest"
      }
     ]
    },
    "q4": {
     "name": "q4",
     "points": null,
     "suites": [
      {
       "cases": [
        {
         "code": ">>> california_burritos.num_columns\n2",
         "hidden": false,
         "locked": false
        },
        {
         "code": ">>> california_burritos.num_rows\n46",
         "hidden": false,
         "locked": false
        }
       ],
       "scored": true,
       "setup": "",
       "teardown": "",
       "type": "doctest"
      }
     ]
    },
    "q5": {
     "name": "q5",
     "points": null,
     "suites": [
      {
       "cases": [
        {
         "code": ">>> isinstance(best_restaurant, str)\nTrue",
         "hidden": false,
         "locked": false
        }
       ],
       "scored": true,
       "setup": "",
       "teardown": "",
       "type": "doctest"
      }
     ]
    },
    "q7": {
     "name": "q7",
     "points": null,
     "suites": [
      {
       "cases": [
        {
         "code": ">>> average_unc_stats.num_columns\n4",
         "hidden": false,
         "locked": false
        },
        {
         "code": ">>> average_unc_stats.num_rows\n74",
         "hidden": false,
         "locked": false
        },
        {
         "code": ">>> set(average_unc_stats.labels) == set(('School Name', 'Title', 'Age average', 'Salary average'))\nTrue",
         "hidden": false,
         "locked": false
        },
        {
         "code": ">>> np.isclose(sum(average_unc_stats.column('Age average')), 3919.262733622144)\nTrue",
         "hidden": false,
         "locked": false
        },
        {
         "code": ">>> np.isclose(sum(average_unc_stats.column('Salary average')), 7382472.347677045)\nTrue",
         "hidden": false,
         "locked": false
        }
       ],
       "scored": true,
       "setup": "",
       "teardown": "",
       "type": "doctest"
      }
     ]
    },
    "q8": {
     "name": "q8",
     "points": null,
     "suites": [
      {
       "cases": [
        {
         "code": ">>> unc_pivot.num_columns\n17",
         "hidden": false,
         "locked": false
        },
        {
         "code": ">>> unc_pivot.num_rows\n6",
         "hidden": false,
         "locked": false
        },
        {
         "code": ">>> round(unc_pivot.column('WSSU').take(0), 2)\n47.57",
         "hidden": false,
         "locked": false
        }
       ],
       "scored": true,
       "setup": "",
       "teardown": "",
       "type": "doctest"
      }
     ]
    },
    "q9": {
     "name": "q9",
     "points": null,
     "suites": [
      {
       "cases": [
        {
         "code": ">>> salary_range(make_array(5, 1, 20, 1000))\n999",
         "hidden": false,
         "locked": false
        }
       ],
       "scored": true,
       "setup": "",
       "teardown": "",
       "type": "doctest"
      }
     ]
    }
   }
  }
 },
 "nbformat": 4,
 "nbformat_minor": 5
}
