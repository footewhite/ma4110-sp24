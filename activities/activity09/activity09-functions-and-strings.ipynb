{
 "cells": [
  {
   "cell_type": "code",
   "execution_count": null,
   "id": "f91c6ca2-5c14-49ce-a301-7a3ca2c0c710",
   "metadata": {},
   "outputs": [],
   "source": [
    "from datascience import *\n",
    "import numpy as np\n",
    "\n",
    "%matplotlib inline\n",
    "import matplotlib.pyplot as plots\n",
    "plots.style.use('fivethirtyeight')"
   ]
  },
  {
   "cell_type": "markdown",
   "id": "9e6cedb4-f184-4826-bc4e-66be45a9fd53",
   "metadata": {},
   "source": [
    "# Activity 09: Functions and Strings\n",
    "\n",
    "In this activity you will need to complete two tasks\n",
    "\n",
    "1. Plot the distribution of average heights of male and females from a group of countries.\n",
    "\n",
    "2. Find the average human height - based on male and female heights from a group of countries."
   ]
  },
  {
   "cell_type": "markdown",
   "id": "64a0b339-2765-49bb-b3e5-2f94d564d199",
   "metadata": {},
   "source": [
    "## Step 1: Load the Data"
   ]
  },
  {
   "cell_type": "code",
   "execution_count": null,
   "id": "49a6c817-e64f-43b0-8cff-d607942279b2",
   "metadata": {},
   "outputs": [],
   "source": [
    "heights = Table().read_table('data/human_heights.csv')\n",
    "heights"
   ]
  },
  {
   "cell_type": "markdown",
   "id": "0e1920af-2d32-4326-8f3f-81ed39310d19",
   "metadata": {},
   "source": [
    "## Step 2: Change the Heights"
   ]
  },
  {
   "cell_type": "code",
   "execution_count": null,
   "id": "b1c66e2b-7a48-4134-829b-b207b6b09f53",
   "metadata": {
    "scrolled": true,
    "tags": []
   },
   "outputs": [],
   "source": [
    "heights.column(1)"
   ]
  },
  {
   "cell_type": "code",
   "execution_count": null,
   "id": "f3f4b515-627f-4dc0-87df-27ce66df5274",
   "metadata": {},
   "outputs": [],
   "source": [
    "heights.column(1)[0]"
   ]
  },
  {
   "cell_type": "code",
   "execution_count": null,
   "id": "1daf8fdb-6378-404e-9814-355572dd71a8",
   "metadata": {},
   "outputs": [],
   "source": [
    "heights.column(1)[0].split(\" \")"
   ]
  },
  {
   "cell_type": "code",
   "execution_count": null,
   "id": "b4492031-e814-4424-b486-76835c0c2f7d",
   "metadata": {},
   "outputs": [],
   "source": [
    "heights.column(1)[0].split(\" \")[0]"
   ]
  },
  {
   "cell_type": "code",
   "execution_count": null,
   "id": "0d7e3e15-8bbf-4b5b-89db-9b9322935733",
   "metadata": {},
   "outputs": [],
   "source": [
    "float(heights.column(1)[0].split(\" \")[0])"
   ]
  },
  {
   "cell_type": "code",
   "execution_count": null,
   "id": "f28f73b3-36d0-446a-b44e-56f25866a9f4",
   "metadata": {},
   "outputs": [],
   "source": [
    "def str_to_float(x):\n",
    "    return float(x.split(\" \")[0])"
   ]
  },
  {
   "cell_type": "code",
   "execution_count": null,
   "id": "29dbcab9-034c-4620-b4fe-4246b72c5265",
   "metadata": {},
   "outputs": [],
   "source": [
    "str_to_float(heights.column(1)[0])"
   ]
  },
  {
   "cell_type": "code",
   "execution_count": null,
   "id": "fdd487a9-e13e-4cc5-9957-d4d263b9dccc",
   "metadata": {},
   "outputs": [],
   "source": [
    "male_height = heights.apply(str_to_float, 'Average male height')\n",
    "male_height"
   ]
  },
  {
   "cell_type": "code",
   "execution_count": null,
   "id": "603b5abd-5793-4795-9681-fb6ccab11c3b",
   "metadata": {},
   "outputs": [],
   "source": [
    "female_height = heights.apply(str_to_float, 'Average female height')\n",
    "female_height"
   ]
  },
  {
   "cell_type": "markdown",
   "id": "5ad9babd-931c-4d4c-994a-6a9988e2021e",
   "metadata": {},
   "source": [
    "## Step 3: Create the Visualization"
   ]
  },
  {
   "cell_type": "code",
   "execution_count": null,
   "id": "f0dcb9e7-7831-48c3-971b-c47d29dadbd1",
   "metadata": {},
   "outputs": [],
   "source": [
    "plots.hist(male_height)"
   ]
  },
  {
   "cell_type": "code",
   "execution_count": null,
   "id": "8587c1e4-a5ca-49c4-b6e3-870a57827048",
   "metadata": {},
   "outputs": [],
   "source": [
    "plots.hist(female_height)"
   ]
  },
  {
   "cell_type": "markdown",
   "id": "bc4742d6-8d5c-4bcd-a34b-b224d51456b3",
   "metadata": {},
   "source": [
    "## Step 4: Compute the Average \"Human Height\""
   ]
  },
  {
   "cell_type": "code",
   "execution_count": null,
   "id": "1743d61c-12fb-4e52-8566-d37b31881008",
   "metadata": {},
   "outputs": [],
   "source": [
    "np.concatenate((male_height, female_height))"
   ]
  },
  {
   "cell_type": "code",
   "execution_count": null,
   "id": "e780f837-3056-43f0-a36f-c369259f664a",
   "metadata": {},
   "outputs": [],
   "source": [
    "np.mean(np.concatenate((male_height, female_height)))"
   ]
  }
 ],
 "metadata": {
  "kernelspec": {
   "display_name": "Python 3 (ipykernel)",
   "language": "python",
   "name": "python3"
  },
  "language_info": {
   "codemirror_mode": {
    "name": "ipython",
    "version": 3
   },
   "file_extension": ".py",
   "mimetype": "text/x-python",
   "name": "python",
   "nbconvert_exporter": "python",
   "pygments_lexer": "ipython3",
   "version": "3.11.4"
  }
 },
 "nbformat": 4,
 "nbformat_minor": 5
}
