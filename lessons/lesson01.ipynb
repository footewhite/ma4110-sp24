{
 "cells": [
  {
   "cell_type": "markdown",
   "metadata": {},
   "source": [
    "# Lesson 01 - Introduction\n",
    "\n",
    "This is a Jupyter notebook. We'll write all of our code in this class in a Jupyter notebook.\n",
    "\n",
    "Today, don't worry about how any of this works. Throughout the semester, we'll learn how each of these pieces work.\n",
    "\n",
    "**Notes:** \n",
    "\n",
    " - The maps in this notebook will not load correctly in Safari if you're on a Mac; use Chrome.\n",
    "\n",
    " - The cell below installs Google Maps"
   ]
  },
  {
   "cell_type": "code",
   "execution_count": null,
   "metadata": {},
   "outputs": [],
   "source": [
    "!pip install -q googlemaps"
   ]
  },
  {
   "cell_type": "markdown",
   "metadata": {},
   "source": [
    "**Note:** The cell below imports Google Maps, [plotly](https://plotly.com/python/) (an open source graphing library), and other libraries that we'll learn more about throughout the course."
   ]
  },
  {
   "cell_type": "code",
   "execution_count": null,
   "metadata": {},
   "outputs": [],
   "source": [
    "from datascience import *\n",
    "import numpy as np\n",
    "import plotly.graph_objects as go\n",
    "import googlemaps\n",
    "import matplotlib\n",
    "import matplotlib.pyplot as plt\n",
    "import warnings\n",
    "warnings.simplefilter('ignore', FutureWarning)\n",
    "warnings.filterwarnings(\"ignore\", message = \"Creating an ndarray from ragged\")\n",
    "warnings.filterwarnings(\"ignore\", message = \"FixedFormatter should only be used together with FixedLocator\")\n",
    "Table.interactive_plots()"
   ]
  },
  {
   "cell_type": "markdown",
   "metadata": {},
   "source": [
    "## North Carolina Colleges and Universities\n",
    "\n",
    "- Introduction to programming with python\n",
    "\n",
    "- Real-world data\n",
    "\n",
    "- Basic data visualization\n",
    "\n",
    "**Example 1.** Here, we'll load in data about all public and private colleges and universities in North Carolina. The data comes from this [Wikipedia article](https://en.wikipedia.org/wiki/List_of_colleges_and_universities_in_North_Carolina).\n",
    "\n",
    "**Note:** The following examples use commands from the [datasceince](http://data8.org/datascience/) library developed by faculty at UC Berkeley."
   ]
  },
  {
   "cell_type": "code",
   "execution_count": null,
   "metadata": {},
   "outputs": [],
   "source": [
    "nc_col_uni = Table.read_table('data/nc_colleges_and_universties.csv')\n",
    "nc_col_uni"
   ]
  },
  {
   "cell_type": "markdown",
   "metadata": {},
   "source": [
    "Data is often stored in tables. Throughout the course, we'll become very, very familiar with how tables work. But for now, let's just observe.\n",
    "\n",
    "**Example 2.** Show the first 20 rows in the table."
   ]
  },
  {
   "cell_type": "code",
   "execution_count": null,
   "metadata": {
    "tags": []
   },
   "outputs": [],
   "source": [
    "nc_col_uni.show(20)"
   ]
  },
  {
   "cell_type": "markdown",
   "metadata": {},
   "source": [
    "Let's start asking questions.\n",
    "\n",
    "**Question 1.** What's the largest public university in North Carolina?"
   ]
  },
  {
   "cell_type": "code",
   "execution_count": null,
   "metadata": {},
   "outputs": [],
   "source": [
    "nc_col_uni.where('Control', 'Public').sort('Enrollment (2020)', descending = True)"
   ]
  },
  {
   "cell_type": "markdown",
   "metadata": {},
   "source": [
    "Let's visualize the 2012 distribution of enrollment.\n",
    "\n",
    "**Example 3.** Make a bar chart of the 2020 enrollment."
   ]
  },
  {
   "cell_type": "code",
   "execution_count": null,
   "metadata": {},
   "outputs": [],
   "source": [
    "nc_col_uni.where('Control', 'Public').sort('Enrollment (2020)', descending = True).barh('School', 'Enrollment (2020)')"
   ]
  },
  {
   "cell_type": "markdown",
   "metadata": {},
   "source": [
    "**Question 2.** What's the oldest university in North Carolina?"
   ]
  },
  {
   "cell_type": "code",
   "execution_count": null,
   "metadata": {
    "tags": []
   },
   "outputs": [],
   "source": [
    "nc_col_uni.sort('Founded')"
   ]
  },
  {
   "cell_type": "markdown",
   "metadata": {},
   "source": [
    "**Question 3.** List all the historically black colleges and universtites (HBCUs) in North Carolina?"
   ]
  },
  {
   "cell_type": "code",
   "execution_count": null,
   "metadata": {
    "tags": []
   },
   "outputs": [],
   "source": [
    "nc_hbcu = nc_col_uni.where('HBCU', 'Yes')\n",
    "nc_hbcu.show()"
   ]
  },
  {
   "cell_type": "markdown",
   "metadata": {},
   "source": [
    "**Example 4.** Let's visualize the total number of universites by year founded."
   ]
  },
  {
   "cell_type": "code",
   "execution_count": null,
   "metadata": {},
   "outputs": [],
   "source": [
    "uni_copy = nc_col_uni.sort('Founded').with_columns('Total Universities', np.arange(1, nc_col_uni.num_rows + 1))\n",
    "uni_copy.plot('Founded', 'Total Universities')"
   ]
  },
  {
   "cell_type": "markdown",
   "metadata": {},
   "source": [
    "By using plotly you can add layers "
   ]
  },
  {
   "cell_type": "code",
   "execution_count": null,
   "metadata": {},
   "outputs": [],
   "source": [
    "fig = go.Figure()\n",
    "\n",
    "fig.add_trace(\n",
    "    go.Scatter(x = uni_copy.column('Founded'), \n",
    "               y = uni_copy.column('Total Universities'), \n",
    "               hovertext = uni_copy.column('School'),\n",
    "               mode = 'markers',\n",
    "              )\n",
    ")\n",
    "\n",
    "fig.add_trace(\n",
    "    go.Scatter(x = uni_copy.column('Founded'), \n",
    "               y = uni_copy.column('Total Universities'),\n",
    "               line = dict(color = 'blue'),\n",
    "              )\n",
    ")\n",
    "\n",
    "fig.update_layout(title = 'Total Number of Public Universities in North Carolina by Year',\n",
    "                  xaxis_title = 'Year',\n",
    "                  yaxis_title = 'Total Universities')\n",
    "\n",
    "fig.show()"
   ]
  },
  {
   "cell_type": "markdown",
   "metadata": {},
   "source": [
    "**Question 4.** Where are the colleges and universities in North Carolina located?"
   ]
  },
  {
   "cell_type": "code",
   "execution_count": null,
   "metadata": {},
   "outputs": [],
   "source": [
    "nc_col_uni_loc = Table.read_table('./data/nc_colleges_and_universities_locations.csv')\n",
    "nc_col_uni_loc"
   ]
  },
  {
   "cell_type": "code",
   "execution_count": null,
   "metadata": {},
   "outputs": [],
   "source": [
    "Marker.map_table(nc_col_uni_loc, marker_icon = 'info-sign')"
   ]
  },
  {
   "cell_type": "markdown",
   "metadata": {},
   "source": [
    "It would be nice if this were color-coded based on whether or not the institution was an HBCU. \n",
    "\n",
    "We can do that."
   ]
  },
  {
   "cell_type": "code",
   "execution_count": null,
   "metadata": {},
   "outputs": [],
   "source": [
    "hbcu_list = nc_hbcu.to_df()['School'].to_list()\n",
    "nc_col_uni_loc_sep = nc_col_uni_loc.with_columns(\n",
    "    'colors', nc_col_uni.apply(lambda s: 'blue' if s in hbcu_list else 'red', 'School')\n",
    ")"
   ]
  },
  {
   "cell_type": "code",
   "execution_count": null,
   "metadata": {
    "tags": []
   },
   "outputs": [],
   "source": [
    "Marker.map_table(nc_col_uni_loc_sep, marker_icon = 'info-sign')"
   ]
  },
  {
   "cell_type": "code",
   "execution_count": null,
   "metadata": {},
   "outputs": [],
   "source": []
  }
 ],
 "metadata": {
  "kernelspec": {
   "display_name": "Python 3 (ipykernel)",
   "language": "python",
   "name": "python3"
  },
  "language_info": {
   "codemirror_mode": {
    "name": "ipython",
    "version": 3
   },
   "file_extension": ".py",
   "mimetype": "text/x-python",
   "name": "python",
   "nbconvert_exporter": "python",
   "pygments_lexer": "ipython3",
   "version": "3.11.5"
  }
 },
 "nbformat": 4,
 "nbformat_minor": 4
}
