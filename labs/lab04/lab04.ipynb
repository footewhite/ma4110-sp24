{
 "cells": [
  {
   "cell_type": "code",
   "execution_count": null,
   "metadata": {
    "deletable": false,
    "editable": false
   },
   "outputs": [],
   "source": [
    "# Initialize Otter\n",
    "import otter\n",
    "grader = otter.Notebook(\"lab04.ipynb\")"
   ]
  },
  {
   "cell_type": "markdown",
   "metadata": {
    "id": "vLF1JRdkzBsG",
    "tags": []
   },
   "source": [
    "# Lab 04: Functions and Visualizations\n",
    "\n",
    "Welcome to Lab 04!\n",
    "\n",
    "This week, we'll learn about functions, table methods such as `apply`, and how to generate visualizations.\n",
    "\n",
    "**Recommended Reading:**\n",
    "\n",
    "* [Applying a Function to a Column](https://inferentialthinking.com/chapters/08/1/Applying_a_Function_to_a_Column.html)\n",
    "\n",
    "* [Visualizations](https://inferentialthinking.com/chapters/07/Visualization.html#)\n",
    "\n",
    "To receive credit for a lab, answer all questions correctly and submit before the deadline.\n",
    "\n",
    "\n",
    "**Collaboration Policy:** Data science is a collaborative activity. While you may talk with others about the labs, we ask that you **write your solutions individually**. If you do discuss the assignments with others **please include their names below** (it's a good way to learn your classmates' names).\n",
    "\n",
    "**Collaborators:** \n",
    "\n",
    "List collaborators here. \n",
    "\n",
    "First, set up the notebook by running the cell below."
   ]
  },
  {
   "cell_type": "code",
   "execution_count": null,
   "metadata": {
    "id": "Ge80ZBq8zBsH"
   },
   "outputs": [],
   "source": [
    "from datascience import *\n",
    "import numpy as np\n",
    "Table.interactive_plots()\n",
    "\n",
    "%matplotlib inline\n",
    "import matplotlib.pyplot as plots\n",
    "plots.style.use('fivethirtyeight')\n",
    "\n",
    "from ipywidgets import interact, interactive, fixed, interact_manual\n",
    "import ipywidgets as widgets"
   ]
  },
  {
   "cell_type": "markdown",
   "metadata": {
    "id": "QIz3bhqLzBsI"
   },
   "source": [
    "## 1. Defining Functions\n",
    "\n",
    "Let's write a very simple function that converts a proportion to a percentage by multiplying it by 100.  For example, the value of `to_percentage(.5)` should be the number 50 (no percent sign).\n",
    "\n",
    "A function definition has a few parts."
   ]
  },
  {
   "cell_type": "markdown",
   "metadata": {
    "id": "oOftyR0tzBsI"
   },
   "source": [
    "### `def`\n",
    "It always starts with `def` (short for **def**ine):\n",
    "\n",
    "    def\n",
    "\n"
   ]
  },
  {
   "cell_type": "markdown",
   "metadata": {
    "id": "rw6B1RcdzBsJ"
   },
   "source": [
    "### Name\n",
    "Next comes the name of the function.  Like other names we've defined, it can't start with a number or contain spaces. Let's call our function `to_percentage`:\n",
    "    \n",
    "    def to_percentage\n",
    "\n"
   ]
  },
  {
   "cell_type": "markdown",
   "metadata": {
    "id": "W7jxhr8AzBsJ"
   },
   "source": [
    "### Signature\n",
    "Next comes something called the *signature* of the function.  This tells Python how many arguments your function should have, and what names you'll use to refer to those arguments in the function's code.  A function can have any number of arguments (including 0!). \n",
    "\n",
    "`to_percentage` should take one argument, and we'll call that argument `proportion` since it should be a proportion.\n",
    "\n",
    "    def to_percentage(proportion)\n",
    "    \n",
    "If we want our function to take more than one argument, we add a comma between each argument name. Note that if we had zero arguments, we'd still place the parentheses () after than name. \n",
    "\n",
    "We put a colon after the signature to tell Python it's over. If you're getting a syntax error after defining a function, check to make sure you remembered the colon!\n",
    "\n",
    "    def to_percentage(proportion):\n",
    "\n"
   ]
  },
  {
   "cell_type": "markdown",
   "metadata": {
    "id": "ORX2DHMGzBsK"
   },
   "source": [
    "### Documentation\n",
    "Functions can do complicated things, so you should write an explanation of what your function does.  For small functions, this is less important, but it's a good habit to learn from the start.  Conventionally, Python functions are documented by writing an **indented** triple-quoted string:\n",
    "\n",
    "    def to_percentage(proportion):\n",
    "        \"\"\"Converts a proportion to a percentage.\"\"\"\n",
    "    \n",
    "    \n"
   ]
  },
  {
   "cell_type": "markdown",
   "metadata": {
    "id": "6aWWdl_VzBsK"
   },
   "source": [
    "### Body\n",
    "Now we start writing code that runs when the function is called.  This is called the *body* of the function and every line **must be indented with a tab**.  Any lines that are *not* indented and left-aligned with the def statement is considered outside the function. \n",
    "\n",
    "Some notes about the body of the function:\n",
    "- We can write code that we would write anywhere else.  \n",
    "- We use the arguments defined in the function signature. We can do this because we assume that when we call the function, values are already assigned to those arguments.\n",
    "- We generally avoid referencing variables defined *outside* the function. If you would like to reference variables outside of the function, pass them through as arguments!\n",
    "\n",
    "\n",
    "Now, let's give a name to the number we multiply a proportion by to get a percentage:\n",
    "\n",
    "    def to_percentage(proportion):\n",
    "        \"\"\"Converts a proportion to a percentage.\"\"\"\n",
    "        factor = 100\n",
    "\n"
   ]
  },
  {
   "cell_type": "markdown",
   "metadata": {
    "id": "TDwCxLDczBsL"
   },
   "source": [
    "### `return`\n",
    "The special instruction `return` is part of the function's body and tells Python to make the value of the function call equal to whatever comes right after `return`.  We want the value of `to_percentage(.5)` to be the proportion .5 times the factor 100, so we write:\n",
    "\n",
    "    def to_percentage(proportion):\n",
    "        \"\"\"Converts a proportion to a percentage.\"\"\"\n",
    "        factor = 100\n",
    "        return proportion * factor\n",
    "        \n",
    "`return` only makes sense in the context of a function, and **can never be used outside of a function**. `return` is always the last line of the function because Python stops executing the body of a function once it hits a `return` statement.\n",
    "\n",
    "**Note:**  `return` inside a function tells Python what value the function evaluates to. However, there are other functions, like `print`, that have no `return` value. For example, `print` simply prints a certain value out to the console. \n",
    "\n",
    "`return` and `print` are **very** different. "
   ]
  },
  {
   "cell_type": "markdown",
   "metadata": {
    "deletable": false,
    "editable": false
   },
   "source": [
    "**Question 1.** Define `to_percentage` in the cell below.  Call your function to convert the proportion .2 to a percentage.  Name that percentage `twenty_percent`."
   ]
  },
  {
   "cell_type": "code",
   "execution_count": null,
   "metadata": {
    "id": "SGI3LxBEzBsM",
    "outputId": "0059803c-8bf1-4648-8450-3c2e95755f73",
    "tags": []
   },
   "outputs": [],
   "source": [
    "def ...\n",
    "    ``` ... ```\n",
    "    ... = ...\n",
    "    return ...\n",
    "\n",
    "twenty_percent = ...\n",
    "twenty_percent"
   ]
  },
  {
   "cell_type": "code",
   "execution_count": null,
   "metadata": {
    "deletable": false,
    "editable": false
   },
   "outputs": [],
   "source": [
    "grader.check(\"q1\")"
   ]
  },
  {
   "cell_type": "markdown",
   "metadata": {
    "id": "6ojvLQ4uzBsO"
   },
   "source": [
    "Like you’ve done with built-in functions in previous labs (`max`, `abs`, etc.), you can pass in named values as arguments to your function."
   ]
  },
  {
   "cell_type": "markdown",
   "metadata": {
    "deletable": false,
    "editable": false
   },
   "source": [
    "**Question 2.** Use `to_percentage` again to convert the proportion named `a_proportion` (defined below) to a percentage called `a_percentage`.\n",
    "\n",
    "**Note:** You don't need to define `to_percentage` again. Like other named values, functions stick around after you define them."
   ]
  },
  {
   "cell_type": "code",
   "execution_count": null,
   "metadata": {
    "id": "toCaLJ2gzBsP",
    "outputId": "beb5e9ba-34c4-4da9-b030-f9b670d58b8b",
    "tags": []
   },
   "outputs": [],
   "source": [
    "a_proportion = 2**(.5)/2\n",
    "a_percentage = ...\n",
    "a_percentage"
   ]
  },
  {
   "cell_type": "code",
   "execution_count": null,
   "metadata": {
    "deletable": false,
    "editable": false
   },
   "outputs": [],
   "source": [
    "grader.check(\"q2\")"
   ]
  },
  {
   "cell_type": "markdown",
   "metadata": {
    "id": "h0P5PsRvzBsQ"
   },
   "source": [
    "### Scope\n",
    "Here's something important about functions: the names assigned *within* a function body are only accessible within the function body. Once the function has returned, those names are gone.  So even if you created a variable called `factor` and defined `factor = 100` inside of the body of the `to_percentage` function and then called `to_percentage`, `factor` would not have a value assigned to it outside of the body of `to_percentage`. For example, running the code below will result in an error because the name `factor` was assigned a value within the function `to_percentage`."
   ]
  },
  {
   "cell_type": "code",
   "execution_count": null,
   "metadata": {
    "id": "EQUcpWuFzBsQ",
    "outputId": "e1df2d83-81b8-4cda-c94b-c82b6495aa7a"
   },
   "outputs": [],
   "source": [
    "# You should see an error when you run this. \n",
    "# If you don't, you might have defined factor somewhere above.)\n",
    "\n",
    "factor\n",
    "\n",
    "# Once you've confirmed this code causes an error, comment out\n",
    "# the call to factor above and re-run this cell so there are no\n",
    "# errors"
   ]
  },
  {
   "cell_type": "markdown",
   "metadata": {
    "id": "2ezb7j4TzBsR"
   },
   "source": [
    "As we've seen with built-in functions, functions can also take strings (or arrays, or tables) as arguments, and they can return those things, too."
   ]
  },
  {
   "cell_type": "markdown",
   "metadata": {
    "deletable": false,
    "editable": false
   },
   "source": [
    "**Question 3.** Define a function called `disemvowel`.  It should take a single string as its argument.  (You can call that argument whatever you want.)  It should return a copy of that string, but with all the characters that are vowels removed.  (In English, the vowels are the characters \"a\", \"e\", \"i\", \"o\", and \"u\".) You can use as many lines inside of the function to do this as you’d like.\n",
    "\n",
    "**Hint:** To remove all the \"a\"s from a string, you can use `that_string.replace(\"a\", \"\")`.  The `.replace` method for strings returns a new string, so you can call `replace` multiple times, one after the other. "
   ]
  },
  {
   "cell_type": "code",
   "execution_count": null,
   "metadata": {
    "id": "hrFZqD0FzBsR",
    "outputId": "f9fabb47-c06a-41d5-c2c6-0a3019c18b2f",
    "tags": []
   },
   "outputs": [],
   "source": [
    "def disemvowel(a_string):\n",
    "    \"\"\"Removes all vowels from a string\"\"\"\n",
    "    ...\n",
    "\n",
    "# An example call to your function.\n",
    "# It's helpful to run an example call from\n",
    "# time to time while you're writing a function,\n",
    "# to see how it currently works.\n",
    "disemvowel(\"can you read this without vowels?\")"
   ]
  },
  {
   "cell_type": "code",
   "execution_count": null,
   "metadata": {
    "deletable": false,
    "editable": false
   },
   "outputs": [],
   "source": [
    "grader.check(\"q3\")"
   ]
  },
  {
   "cell_type": "markdown",
   "metadata": {
    "id": "zXMRnnyJzBsS"
   },
   "source": [
    "### Calls on calls on calls\n",
    "Just as you write a series of lines to build up a complex computation, it's useful to define a series of small functions that build on each other.  Since you can write any code inside a function's body, you can call other functions you've written.\n",
    "\n",
    "If a function is a like a recipe, defining a function in terms of other functions is like having a recipe for cake telling you to follow another recipe to make the frosting, and another to make the jam filling.  This makes the cake recipe shorter and clearer, and it avoids having a bunch of duplicated frosting recipes.  It's a foundation of productive programming.\n",
    "\n",
    "For example, suppose you want to count the number of characters *that aren't vowels* in a piece of text.  One way to do that is this to remove all the vowels and count the size of the remaining string."
   ]
  },
  {
   "cell_type": "markdown",
   "metadata": {
    "deletable": false,
    "editable": false
   },
   "source": [
    "**Question 4.** Write a function called `num_non_vowels`.  It should take a string as its argument and return a number.  That number should be the number of characters in the argument string that aren't vowels. You should use the `disemvowel` function you wrote above inside of the `num_non_vowels` function.\n",
    "\n",
    "**Hint:** The function `len` takes a string as its argument and returns the number of characters in it."
   ]
  },
  {
   "cell_type": "code",
   "execution_count": null,
   "metadata": {
    "id": "Xt82RU-ezBsT",
    "tags": []
   },
   "outputs": [],
   "source": [
    "def num_non_vowels(a_string):\n",
    "    \"\"\"The number of characters in a string, minus the vowels.\"\"\"\n",
    "    ...\n",
    "\n",
    "# Try calling your function yourself to make sure the output is what\n",
    "# you expect. You can also use the interact function in the next cell if you'd like."
   ]
  },
  {
   "cell_type": "code",
   "execution_count": null,
   "metadata": {
    "deletable": false,
    "editable": false
   },
   "outputs": [],
   "source": [
    "grader.check(\"q4\")"
   ]
  },
  {
   "cell_type": "markdown",
   "metadata": {
    "id": "8b1APpXpzBsT"
   },
   "source": [
    "Functions can also encapsulate code that *displays output* instead of computing a value. For example, if you call `print` inside a function, and then call that function, something will get printed.\n",
    "\n",
    "The `movies_by_year` dataset in the textbook has information about movie sales in recent years.  Suppose you'd like to display the year with the 5th-highest total gross movie sales, printed in a human-readable way.  \n",
    "\n",
    "**One way to do this could be the block of code below.** Read through it carefully so you understand the operations this code completes, and then run the cell to verify it works."
   ]
  },
  {
   "cell_type": "code",
   "execution_count": null,
   "metadata": {
    "id": "hKpfHIi5zBsU",
    "outputId": "7ecb3de4-f9ab-40ac-90f7-826ba0a23b40"
   },
   "outputs": [],
   "source": [
    "movies_by_year = Table.read_table('data/movies_by_year.csv')\n",
    "rank = 5\n",
    "fifth_from_top_movie_year = movies_by_year.sort('Total Gross', descending=True).column('Year').item(rank-1)\n",
    "print('Year number', rank, 'for total gross movie sales was', fifth_from_top_movie_year)"
   ]
  },
  {
   "cell_type": "markdown",
   "metadata": {
    "id": "v1SdqvWOzBsV"
   },
   "source": [
    "**Oops!** After writing this, you realize you also wanted to print out the 2$^\\text{nd}$ and 3$^\\text{rd}$ highest years.  Instead of copying and editing your code for these additional cases, you decide to the code into a function.  Since the rank will vary from call to call, you make that an argument to your function and name it `k`."
   ]
  },
  {
   "cell_type": "markdown",
   "metadata": {
    "deletable": false,
    "editable": false
   },
   "source": [
    "**Question 5.** Write a function called `print_kth_top_movie_year`.  It should take a single argument, the rank of the year (like 2, 3, or 5 in the above examples).  It should print out a message exactly like the one above.  \n",
    "\n",
    "**Note:** Your function shouldn't have a `return` statement."
   ]
  },
  {
   "cell_type": "code",
   "execution_count": null,
   "metadata": {
    "id": "zNAotG0hzBsV",
    "outputId": "9978df88-0b07-4eb9-bbef-e3de3fde82ad",
    "tags": []
   },
   "outputs": [],
   "source": [
    "def print_kth_top_movie_year(k):\n",
    "    ...\n",
    "    ...\n",
    "    print(...)\n",
    "    \n",
    "# Example calls to your function\n",
    "print_kth_top_movie_year(2)\n",
    "print_kth_top_movie_year(3)"
   ]
  },
  {
   "cell_type": "code",
   "execution_count": null,
   "metadata": {
    "deletable": false,
    "editable": false
   },
   "outputs": [],
   "source": [
    "grader.check(\"q5\")"
   ]
  },
  {
   "cell_type": "markdown",
   "metadata": {
    "id": "Ti0hlGqKzBsW"
   },
   "source": [
    "### `interact`\n",
    "\n",
    "One interesting python library is `interact`. It allows you to create interactive elements in your notebook, like sliders and dropdown menus, and use the selections as inputs to a function. Running the cell below will create a drop down menu for the elements in the array `np.arange(1, 10)` and display the results of passing the selected element to the function `print_kth_top_movie_year`. Run it and see how it works."
   ]
  },
  {
   "cell_type": "code",
   "execution_count": null,
   "metadata": {
    "colab": {
     "referenced_widgets": [
      "2a82598263574db2a0713f28cde1c677"
     ]
    },
    "id": "x8__flx7zBsX",
    "outputId": "4af504e5-9610-4750-966b-9a00e9cd3eb5"
   },
   "outputs": [],
   "source": [
    "# interact also allows you to pass in an array for a function argument. \n",
    "# It will then present a dropdown menu of options.\n",
    "_ = interact(print_kth_top_movie_year, k=np.arange(1, 10))"
   ]
  },
  {
   "cell_type": "markdown",
   "metadata": {
    "id": "EXr7IoRdzBsX"
   },
   "source": [
    "### `print` is not the same as `return`\n",
    "The `print_kth_top_movie_year(k)` function prints the total gross movie sales for the year that was provided. However, since we did not return any value in this function, we can not use it after we call it. Let's look at an example of another function that prints a value but does not return it."
   ]
  },
  {
   "cell_type": "code",
   "execution_count": null,
   "metadata": {
    "id": "RwbE-MxLzBsX"
   },
   "outputs": [],
   "source": [
    "def print_number_five():\n",
    "    print(5)"
   ]
  },
  {
   "cell_type": "code",
   "execution_count": null,
   "metadata": {
    "id": "kJ0wtHfCzBsY",
    "outputId": "9c94d267-629c-48a1-a886-19133685d986"
   },
   "outputs": [],
   "source": [
    "print_number_five()"
   ]
  },
  {
   "cell_type": "code",
   "execution_count": null,
   "metadata": {
    "id": "nXSxWEr6zBsY",
    "outputId": "4219cb8c-3104-4c77-e60a-3d93d9147dd3"
   },
   "outputs": [],
   "source": [
    "print_number_five_output = print_number_five()\n",
    "print_number_five_output + 2"
   ]
  },
  {
   "cell_type": "markdown",
   "metadata": {
    "id": "vVuhSAjgzBsY"
   },
   "source": [
    "It may seem that `print_number_five()` is returning a value, 5. In reality, it just displays the number 5 to you without giving you the actual value! If your function prints out a value without returning it and you try to use that value, you will run into errors, so be careful!"
   ]
  },
  {
   "cell_type": "markdown",
   "metadata": {
    "deletable": false,
    "editable": false
   },
   "source": [
    "<!-- BEGIN QUESTION -->\n",
    "\n",
    "**Question 6.** Explain with words (not just code) how you might alter the `print_number_five` function defined above so that the code `print_number_five() + 2` would result in the value `7`, rather than an error.\n"
   ]
  },
  {
   "cell_type": "markdown",
   "metadata": {},
   "source": [
    "_Type your answer here, replacing this text._"
   ]
  },
  {
   "cell_type": "markdown",
   "metadata": {
    "deletable": false,
    "editable": false,
    "id": "x1DFrbz8zBsZ"
   },
   "source": [
    "<!-- END QUESTION -->\n",
    "\n",
    "## 2. Functions and CEO Incomes\n",
    "\n",
    "Let's take a look at the 2019 compensation of North Carolina CEOs. The following table contains information on the top 61 highest paid CEOs for companies headquartered in North Carolina. The data was compiled from the [AFL-CIO Executive Paywatch database](https://aflcio.org/paywatch/highest-paid-ceos), and ultimately came from [filings](https://www.sec.gov/answers/proxyhtf.htm) mandated by the SEC from all publicly-traded companies.\n",
    "\n",
    "We've copied the raw data from the AFL-CIO database into a file called `nc-ceo-pay.csv`."
   ]
  },
  {
   "cell_type": "code",
   "execution_count": null,
   "metadata": {
    "id": "TEMo1f1gzBsa",
    "outputId": "db75a640-2d69-4d0d-e906-d74d29e9f397"
   },
   "outputs": [],
   "source": [
    "raw_compensation = Table.read_table('data/nc-ceo-pay.csv')\n",
    "raw_compensation"
   ]
  },
  {
   "cell_type": "markdown",
   "metadata": {
    "id": "nOF21OnozBsa"
   },
   "source": [
    "We want to compute the average of the CEOs' pay. Try running the cell below."
   ]
  },
  {
   "cell_type": "code",
   "execution_count": null,
   "metadata": {
    "id": "6QEhy3rwzBsa",
    "outputId": "429fc7c0-6de4-4733-e68c-ecc2ce8c9cab"
   },
   "outputs": [],
   "source": [
    "np.average(raw_compensation.column('Total Pay'))"
   ]
  },
  {
   "cell_type": "markdown",
   "metadata": {
    "id": "aGluUYopzBsa"
   },
   "source": [
    "You should see a TypeError. Let's examine why this error occurred by looking at the values in the `Total Pay` column.     "
   ]
  },
  {
   "cell_type": "markdown",
   "metadata": {
    "deletable": false,
    "editable": false
   },
   "source": [
    "**Question 7.** Set `total_pay_type` to the type of the first value in the \"Total Pay\" column of the `raw_compensation` Table. You can use the `type` function on this element to determine it's type. \n"
   ]
  },
  {
   "cell_type": "code",
   "execution_count": null,
   "metadata": {
    "id": "gxpj61fxzBsb",
    "outputId": "f3817e48-4f88-4f79-83fe-77809d7c7381",
    "tags": []
   },
   "outputs": [],
   "source": [
    "total_pay_type = ...\n",
    "total_pay_type"
   ]
  },
  {
   "cell_type": "code",
   "execution_count": null,
   "metadata": {
    "deletable": false,
    "editable": false
   },
   "outputs": [],
   "source": [
    "grader.check(\"q7\")"
   ]
  },
  {
   "cell_type": "markdown",
   "metadata": {
    "deletable": false,
    "editable": false
   },
   "source": [
    "**Question 8.** You should have found that the values in the `Total Pay` column are strings. It doesn't make sense to take the average of string values, so we need to convert them to numbers if we want to do this. \n",
    "\n",
    "Extract the first value in the column `Total Pay`.  It's [Brian Moynihan's](https://en.wikipedia.org/wiki/Brian_Moynihan) pay in 2019, in dollars.  Call it `brian_moynihan_pay_string`."
   ]
  },
  {
   "cell_type": "code",
   "execution_count": null,
   "metadata": {
    "id": "lScSh9oNzBsd",
    "outputId": "6cf28585-847c-43eb-aeab-521cb711bcea",
    "tags": []
   },
   "outputs": [],
   "source": [
    "brian_moynihan_pay_string = ...\n",
    "brian_moynihan_pay_string"
   ]
  },
  {
   "cell_type": "code",
   "execution_count": null,
   "metadata": {
    "deletable": false,
    "editable": false
   },
   "outputs": [],
   "source": [
    "grader.check(\"q8\")"
   ]
  },
  {
   "cell_type": "markdown",
   "metadata": {
    "deletable": false,
    "editable": false
   },
   "source": [
    "**Question 9.** Convert `brian_moynihan_pay_string` to a number of *dollars*. \n",
    "\n",
    "**Some hints**, as this question requires multiple steps:\n",
    "\n",
    "- The string method `strip` will be useful for removing the dollar sign; it removes a specified character from the start or end of a string.  For example, the value of `\"100%\".strip(\"%\")` is the string `\"100\"`. \n",
    "\n",
    "- The string method `replace` from earlier in this lab will be useful for removing the commas; remember this method can remove any character by replacing it with an empty string `''`\n",
    "\n",
    "- You'll also need the function `float`, which converts a string that looks like a number to an actual number.  "
   ]
  },
  {
   "cell_type": "code",
   "execution_count": null,
   "metadata": {
    "id": "b0A0UUePzBse",
    "outputId": "cb6ef097-d1d4-42b3-f3f4-faf6b6de0d14",
    "tags": []
   },
   "outputs": [],
   "source": [
    "brian_moynihan_pay = ...\n",
    "brian_moynihan_pay"
   ]
  },
  {
   "cell_type": "code",
   "execution_count": null,
   "metadata": {
    "deletable": false,
    "editable": false
   },
   "outputs": [],
   "source": [
    "grader.check(\"q9\")"
   ]
  },
  {
   "cell_type": "markdown",
   "metadata": {
    "id": "4aB8sMkGzBsg"
   },
   "source": [
    "To compute the average pay, we need to do this for every CEO.  But that looks like it would involve copying this code 61 times.\n",
    "\n",
    "This is where functions come in.  First, we'll define a new function, giving a name to the expression that converts \"total pay\" strings to numeric values.  Later in this lab, we'll see the payoff: we can call that function on every pay string in the dataset at once.\n",
    "\n",
    "The next section of this lab explains how to apply a function to every element in a Table. For now, complete the return expression for the function below."
   ]
  },
  {
   "cell_type": "markdown",
   "metadata": {
    "deletable": false,
    "editable": false
   },
   "source": [
    "**Question 10.** Copy the expression you used to compute `brian_moynihan_pay`, and use it as the return expression of the function below. But make sure you replace the specific `brian_moynihan_pay_string` with the generic `pay_string` name specified in the first line in the `def` statement.\n",
    "\n",
    "**Hint:** When dealing with functions, you should generally not be referencing any variable outside of the function. Usually, you want to be working with the arguments that are passed into it, such as `pay_string` for this function. If you're using `brian_moynihan_pay_string` within your function, you're referencing an outside variable!"
   ]
  },
  {
   "cell_type": "code",
   "execution_count": null,
   "metadata": {
    "id": "RjoIBSUWzBsg",
    "tags": []
   },
   "outputs": [],
   "source": [
    "def convert_pay_string_to_number(pay_string):\n",
    "    \"\"\"Converts a pay string like '$100' (in millions) to a number of dollars.\"\"\"\n",
    "    ..."
   ]
  },
  {
   "cell_type": "code",
   "execution_count": null,
   "metadata": {
    "deletable": false,
    "editable": false
   },
   "outputs": [],
   "source": [
    "grader.check(\"q10\")"
   ]
  },
  {
   "cell_type": "markdown",
   "metadata": {
    "id": "k2iAOpg1zBsh"
   },
   "source": [
    "Running that cell doesn't convert any particular pay string. Instead, it creates a function called `convert_pay_string_to_number` that can convert *any* string with the right format to a number representing dollars.\n",
    "\n",
    "We can call our function just like we call the built-in functions we've seen. It takes one argument -- a string -- and it returns a float."
   ]
  },
  {
   "cell_type": "code",
   "execution_count": null,
   "metadata": {
    "id": "ZTwz-nL6zBsi",
    "outputId": "e0627da3-fc4e-4ce6-842b-d3c38200bc2f"
   },
   "outputs": [],
   "source": [
    "# We can also compute Susan DeVores pay in the same way\n",
    "convert_pay_string_to_number(raw_compensation.where('Name', are.containing('Susan')).column(\"Total Pay\").item(0))"
   ]
  },
  {
   "cell_type": "markdown",
   "metadata": {
    "id": "9Bd_ICAszBsi"
   },
   "source": [
    "So, what have we gained by defining the `convert_pay_string_to_number` function?\n",
    "\n",
    "Well, without it, we'd have to copy the code \n",
    "\n",
    "`float(pay_string.strip('$').replace(',',''))` \n",
    "\n",
    "each time we wanted to convert a pay string.  Now we just call a function whose name says exactly what it's doing."
   ]
  },
  {
   "cell_type": "markdown",
   "metadata": {
    "id": "BCxkVj-YzBsi"
   },
   "source": [
    "## 3. `apply`ing Functions\n",
    "\n",
    "Defining a function is a lot like giving a name to a value with `=`.  In fact, a function is a value just like the number 1 or the text \"data\".\n",
    "\n",
    "For example, if we want to we can make a new name for the built-in function `max`."
   ]
  },
  {
   "cell_type": "code",
   "execution_count": null,
   "metadata": {
    "id": "TzAYP3x3zBsi",
    "outputId": "adc115ae-1f00-497c-8efd-aac531be2bfb"
   },
   "outputs": [],
   "source": [
    "our_name_for_max = max\n",
    "our_name_for_max(2, 6)"
   ]
  },
  {
   "cell_type": "markdown",
   "metadata": {
    "id": "Z90mR5_NzBsj"
   },
   "source": [
    "The old name for `max` is still around."
   ]
  },
  {
   "cell_type": "code",
   "execution_count": null,
   "metadata": {
    "id": "oohTyjp-zBsj",
    "outputId": "91fb0952-ab1e-46f7-e05f-6e85b0ee8c2d"
   },
   "outputs": [],
   "source": [
    "max(2, 6)"
   ]
  },
  {
   "cell_type": "markdown",
   "metadata": {
    "id": "QwfeOjLHzBsk"
   },
   "source": [
    "Now try writing `?max` or `?our_name_for_max` (or the name of any other function) in a cell, and run that cell.  A information box should show up at the bottom of your screen a longer description of the function\n",
    "\n",
    "**Note:** You can also press Shift+Tab after clicking on a name to see similar information."
   ]
  },
  {
   "cell_type": "code",
   "execution_count": null,
   "metadata": {
    "id": "ePqZIsEQzBsk",
    "outputId": "382676d4-297f-4258-e03a-302751f18297"
   },
   "outputs": [],
   "source": [
    "?max"
   ]
  },
  {
   "cell_type": "markdown",
   "metadata": {
    "id": "PR5eh0iezBsl"
   },
   "source": [
    "### Careful!\n",
    "Because Python treats functions like any other type of object, you can overwrite the value like you could any other piece of data.\n",
    "\n",
    "Let's look at what happens when we set `max`to a non-function value. You'll notice that a TypeError will occur when you try running `max(2, 6)` on line 2 in the cell below. That's because in line 1, you redefined `max` to no longer be the function that you know and love, but rather the `int` with value of `6`. Things like integers and strings are not callable as functions, which explains the error message you get when you run the cell below. \n",
    "\n",
    "If you ever try running a function and get this error message, look out for any functions that might have been renamed (likely by accident) somewhere else in your notebook."
   ]
  },
  {
   "cell_type": "code",
   "execution_count": null,
   "metadata": {
    "id": "kloTpw8bzBsl",
    "outputId": "c246784a-a9e0-4b4d-d6ee-033794671f36"
   },
   "outputs": [],
   "source": [
    "max = 6\n",
    "max(2, 6)"
   ]
  },
  {
   "cell_type": "markdown",
   "metadata": {
    "id": "PGbHOC7EzBsl"
   },
   "source": [
    "### Important\n",
    "\n",
    "Run the cell below to reset `max` back to the default function in Python."
   ]
  },
  {
   "cell_type": "code",
   "execution_count": null,
   "metadata": {
    "id": "VD1iRJ6DzBsm"
   },
   "outputs": [],
   "source": [
    "# This cell resets max to the built-in function. \n",
    "# Just run this cell, don't change its contents.\n",
    "import builtins\n",
    "max = builtins.max"
   ]
  },
  {
   "cell_type": "markdown",
   "metadata": {
    "id": "IlUiBFAezBsm"
   },
   "source": [
    "### Why is this useful?\n",
    "\n",
    "It may seem odd to give a function a new name, but this feature in Python does have it's uses. Since functions are treated just like other data types, it's possible to pass functions as arguments to other functions, just like you might pass an `int` or `str` object. \n",
    "\n",
    "Here's a simple but not-so-practical example: we can make an array of functions by providing function names as arguments to the `make_array` function."
   ]
  },
  {
   "cell_type": "code",
   "execution_count": null,
   "metadata": {
    "id": "EMvTm8b_zBsm",
    "outputId": "68d5546f-b087-4486-e5fb-b639ab2cb686"
   },
   "outputs": [],
   "source": [
    "make_array(max, np.average, are.equal_to)"
   ]
  },
  {
   "cell_type": "markdown",
   "metadata": {
    "deletable": false,
    "editable": false
   },
   "source": [
    "**Question 12.** Make an array containing any 3 other functions you've seen.  Call it `some_functions`."
   ]
  },
  {
   "cell_type": "code",
   "execution_count": null,
   "metadata": {
    "id": "RPQX8LzOzBsn",
    "outputId": "0eeea794-c1b2-4505-f95d-fd220a2bdf00",
    "tags": []
   },
   "outputs": [],
   "source": [
    "some_functions = ...\n",
    "some_functions"
   ]
  },
  {
   "cell_type": "code",
   "execution_count": null,
   "metadata": {
    "deletable": false,
    "editable": false
   },
   "outputs": [],
   "source": [
    "grader.check(\"q12\")"
   ]
  },
  {
   "cell_type": "markdown",
   "metadata": {
    "id": "oCAqyT6_zBsq"
   },
   "source": [
    "Working with functions as values can lead to some funny-looking code. For example, see if you can figure out why the following code works. Check your explanation with a classmate or your instructor."
   ]
  },
  {
   "cell_type": "code",
   "execution_count": null,
   "metadata": {
    "id": "RCgaibfczBsq",
    "outputId": "a72770b2-9d98-4501-a4b7-3c0d0afe8cbb"
   },
   "outputs": [],
   "source": [
    "make_array(max, np.average, are.equal_to).item(0)(4, -2, 7)"
   ]
  },
  {
   "cell_type": "markdown",
   "metadata": {
    "id": "TtB6KAzozBsq"
   },
   "source": [
    "A more useful example of passing functions to other functions as arguments is the table method `apply`.\n",
    "\n",
    "`apply` calls a function many times, once on *each* element in a column of a table.  It produces an *array* of the results.  Here we use `apply` to convert every CEO's pay to a number, using the function you defined"
   ]
  },
  {
   "cell_type": "code",
   "execution_count": null,
   "metadata": {
    "id": "b8yRQqnlzBsr",
    "outputId": "e38f1626-0108-4591-fe74-d60896c3a9a5"
   },
   "outputs": [],
   "source": [
    "raw_compensation.apply(convert_pay_string_to_number, 'Total Pay')"
   ]
  },
  {
   "cell_type": "markdown",
   "metadata": {
    "id": "YI8vQcJAzBsr"
   },
   "source": [
    "Here's an illustration of what that did:\n",
    "\n",
    "<img src=\"images/apply.png\" width=\"800\" height=\"500\"/>"
   ]
  },
  {
   "cell_type": "markdown",
   "metadata": {
    "id": "KxgWDOPRzBss"
   },
   "source": [
    "**Note:** We didn’t write `raw_compensation.apply(convert_pay_string_to_number(), 'Total Pay')` or `raw_compensation.apply(convert_pay_string_to_number('Total Pay'))`. \n",
    "\n",
    "We provided the name of the function, with no parentheses and the name of the column we’d like to use it on. The `.apply` method will call the function you specify, in this case `convert_pay_string_to_number`, using each value in the specified column, in this case`'Total Pay'`, for you! It will It's a very quick operation!"
   ]
  },
  {
   "cell_type": "markdown",
   "metadata": {
    "deletable": false,
    "editable": false
   },
   "source": [
    "**Question 13.** Using `apply`, make a table that's a copy of `raw_compensation` with one additional column called `Total Pay ($)`.  That column should contain the result of applying `convert_pay_string_to_number` to the `Total Pay` column (as we did above).  Call the new table `compensation`.\n"
   ]
  },
  {
   "cell_type": "code",
   "execution_count": null,
   "metadata": {
    "id": "lkZRP38wzBss",
    "outputId": "19ddc414-b685-4b4e-82b9-a5559e73fe95",
    "tags": []
   },
   "outputs": [],
   "source": [
    "compensation = raw_compensation.with_column(\n",
    "    'Total Pay ($)',\n",
    "    ...\n",
    "    )\n",
    "compensation"
   ]
  },
  {
   "cell_type": "code",
   "execution_count": null,
   "metadata": {
    "deletable": false,
    "editable": false
   },
   "outputs": [],
   "source": [
    "grader.check(\"q13\")"
   ]
  },
  {
   "cell_type": "markdown",
   "metadata": {
    "id": "s5uUCpyUzBsu"
   },
   "source": [
    "Now that we have all the pays as numbers, we can learn more about them through computation."
   ]
  },
  {
   "cell_type": "markdown",
   "metadata": {
    "deletable": false,
    "editable": false
   },
   "source": [
    "**Question 14.** Compute the average total pay of the CEOs in the dataset.\n"
   ]
  },
  {
   "cell_type": "code",
   "execution_count": null,
   "metadata": {
    "id": "_-SYnjZMzBsu",
    "outputId": "9a83c86b-aefb-4a99-c1a4-06236006a4e6",
    "tags": []
   },
   "outputs": [],
   "source": [
    "average_total_pay = ...\n",
    "average_total_pay"
   ]
  },
  {
   "cell_type": "code",
   "execution_count": null,
   "metadata": {
    "deletable": false,
    "editable": false
   },
   "outputs": [],
   "source": [
    "grader.check(\"q14\")"
   ]
  },
  {
   "cell_type": "markdown",
   "metadata": {
    "deletable": false,
    "editable": false
   },
   "source": [
    "**Question 15.** Companies pay executives in a variety of ways: in salary, by granting stock and/or options, other equity in the company, or with ancillary benefits (like private jets). Compute the proportion of each CEO's pay that was salary. \n",
    "\n",
    "**Hint:** Your answer should be an array of numbers, one for each CEO in the dataset."
   ]
  },
  {
   "cell_type": "code",
   "execution_count": null,
   "metadata": {
    "id": "ca8ikuD0zBsw",
    "outputId": "10cb4d9c-5d4d-40c7-8543-4600e5a79262",
    "tags": []
   },
   "outputs": [],
   "source": [
    "salary_proportion = ...\n",
    "salary_proportion"
   ]
  },
  {
   "cell_type": "code",
   "execution_count": null,
   "metadata": {
    "deletable": false,
    "editable": false
   },
   "outputs": [],
   "source": [
    "grader.check(\"q15\")"
   ]
  },
  {
   "cell_type": "markdown",
   "metadata": {
    "id": "9WTaWaPCzBsx"
   },
   "source": [
    "### Why is `apply` useful?\n",
    "\n",
    "For operations like arithmetic, or the functions in the NumPy library, you don't need to use `apply`, because they automatically work on each element of an array. These types of functions are called **vectorized** in data science langauge. However, there are many functions that aren't written in a way that they work on each element in an array automatically. The string manipulation we did in today's lab is one example.  Since you can write any code you want in a function, `apply` gives you the power to use it on every element in an array without knowing how to properly **vectorize** your functions."
   ]
  },
  {
   "cell_type": "markdown",
   "metadata": {
    "deletable": false,
    "editable": false
   },
   "source": [
    "**Question 16.** Extend the table so it includes a new column labeled `'Salary (%)'` which contains the proportions contained in the array `salary_proportion`. Call this new table `ceo_salary_percent`."
   ]
  },
  {
   "cell_type": "code",
   "execution_count": null,
   "metadata": {
    "id": "sGvbEJWszBsy",
    "outputId": "62f37162-7aca-4b90-b7c3-c7d192d9ab1c",
    "tags": []
   },
   "outputs": [],
   "source": [
    "ceo_salary_percent = ...\n",
    "ceo_salary_percent"
   ]
  },
  {
   "cell_type": "code",
   "execution_count": null,
   "metadata": {
    "deletable": false,
    "editable": false
   },
   "outputs": [],
   "source": [
    "grader.check(\"q16\")"
   ]
  },
  {
   "cell_type": "markdown",
   "metadata": {
    "deletable": false,
    "editable": false
   },
   "source": [
    "<!-- BEGIN QUESTION -->\n",
    "\n",
    "**Question 17.** Use the `set_format` Table method to format the `'Salary (%)'` column in `ceo_salary_percent` so the values display as percentages out of 100 instead of proportions out of 1. As a reminder, the syntax for `set_format` is:\n",
    "\n",
    "```\n",
    "Table.set_format(column_or_columns, formatter)\n",
    "```\n"
   ]
  },
  {
   "cell_type": "code",
   "execution_count": null,
   "metadata": {
    "id": "DG3Byh2pzBs0",
    "outputId": "fff944fa-3994-4578-b007-7d52e2c38865",
    "tags": []
   },
   "outputs": [],
   "source": [
    "...\n",
    "ceo_salary_percent"
   ]
  },
  {
   "cell_type": "markdown",
   "metadata": {
    "deletable": false,
    "editable": false,
    "id": "VMsE1NcPzBs1"
   },
   "source": [
    "<!-- END QUESTION -->\n",
    "\n",
    "## 4. Histograms\n",
    "\n",
    "Earlier, we computed the average pay among the CEOs in our 61-CEO dataset. The average doesn't tell us everything about the amounts CEOs are paid, though. Maybe just a few CEOs make the bulk of the money, even among these 61.\n",
    "\n",
    "We can use a histogram method to display the distribution of a set of numbers. The table method hist takes a single argument, the name of a column of numbers. It produces a histogram of the numbers in that column."
   ]
  },
  {
   "cell_type": "markdown",
   "metadata": {
    "deletable": false,
    "editable": false
   },
   "source": [
    "<!-- BEGIN QUESTION -->\n",
    "\n",
    "**Question 18.** Make a histogram of the total pay of the CEOs in `compensation`. Your bins should start a $\\$$ 0 and end at $ \\$ $25,000,000 and be $ \\$ $1,000,000 wide. Check with your group to make sure you have the right plot.\n",
    "\n",
    "**Note:** Because your units are dollars (not thousands or millions of dollars) each bar has a very large number for its width. That means that the bars will have very small numbers for their heights, since their areas are still going to be between 0 and 100 percent."
   ]
  },
  {
   "cell_type": "code",
   "execution_count": null,
   "metadata": {
    "id": "iEEIf0I8zBs2",
    "outputId": "33b39dc5-e706-4ef8-ec4c-3f7e3c699e85",
    "tags": []
   },
   "outputs": [],
   "source": [
    "..."
   ]
  },
  {
   "cell_type": "markdown",
   "metadata": {
    "deletable": false,
    "editable": false
   },
   "source": [
    "<!-- END QUESTION -->\n",
    "\n",
    "**Question 19.** How many CEOs made more than $10 million in total pay? Compute the value using code (`where` and `num_rows` will be your friend!), then check that the value you found is consistent with what you see in the histogram."
   ]
  },
  {
   "cell_type": "code",
   "execution_count": null,
   "metadata": {
    "id": "r7epBlgVzBs3",
    "outputId": "215c630e-0df5-4a7e-9a29-2b16fe4f82a6",
    "tags": []
   },
   "outputs": [],
   "source": [
    "num_ceos_more_than_10_million = ...\n",
    "num_ceos_more_than_10_million"
   ]
  },
  {
   "cell_type": "code",
   "execution_count": null,
   "metadata": {
    "deletable": false,
    "editable": false
   },
   "outputs": [],
   "source": [
    "grader.check(\"q19\")"
   ]
  },
  {
   "cell_type": "markdown",
   "metadata": {
    "deletable": false,
    "editable": false
   },
   "source": [
    "## Submission\n",
    "\n",
    "Make sure you have run all cells in your notebook in order before running the cell below, so that all images/graphs appear in the output. The cell below will generate a zip file for you to submit. **Please save before exporting!**\n",
    "\n",
    "When done exporting, download the .zip file by finding the .zip file in the left side of the screen, right-clicking on it, and selecting **Download**. You'll submit this .zip file for the assignment in Canvas to Gradescope for grading."
   ]
  },
  {
   "cell_type": "code",
   "execution_count": null,
   "metadata": {
    "deletable": false,
    "editable": false
   },
   "outputs": [],
   "source": [
    "# Save your notebook first, then run this cell to export your submission.\n",
    "grader.export(pdf=False, run_tests=True)"
   ]
  },
  {
   "cell_type": "markdown",
   "metadata": {},
   "source": [
    " "
   ]
  }
 ],
 "metadata": {
  "colab": {
   "name": "lab04.ipynb",
   "provenance": []
  },
  "kernelspec": {
   "display_name": "Python 3 (ipykernel)",
   "language": "python",
   "name": "python3"
  },
  "language_info": {
   "codemirror_mode": {
    "name": "ipython",
    "version": 3
   },
   "file_extension": ".py",
   "mimetype": "text/x-python",
   "name": "python",
   "nbconvert_exporter": "python",
   "pygments_lexer": "ipython3",
   "version": "3.11.5"
  },
  "otter": {
   "OK_FORMAT": true,
   "tests": {
    "q1": {
     "name": "q1",
     "points": null,
     "suites": [
      {
       "cases": [
        {
         "code": ">>> to_percentage(0.35) == 35.0\nTrue",
         "hidden": false,
         "locked": false
        }
       ],
       "scored": true,
       "setup": "",
       "teardown": "",
       "type": "doctest"
      }
     ]
    },
    "q10": {
     "name": "q10",
     "points": null,
     "suites": [
      {
       "cases": [
        {
         "code": ">>> convert_pay_string_to_number('$100,000 ')\n100000.0",
         "hidden": false,
         "locked": false
        },
        {
         "code": ">>> convert_pay_string_to_number('$23,456 ')\n23456.0",
         "hidden": false,
         "locked": false
        }
       ],
       "scored": true,
       "setup": "",
       "teardown": "",
       "type": "doctest"
      }
     ]
    },
    "q12": {
     "name": "q12",
     "points": null,
     "suites": [
      {
       "cases": [
        {
         "code": ">>> len(some_functions)\n3",
         "hidden": false,
         "locked": false
        },
        {
         "code": ">>> callable(some_functions.item(0))\nTrue",
         "hidden": false,
         "locked": false
        },
        {
         "code": ">>> callable(some_functions.item(1))\nTrue",
         "hidden": false,
         "locked": false
        },
        {
         "code": ">>> callable(some_functions.item(2))\nTrue",
         "hidden": false,
         "locked": false
        }
       ],
       "scored": true,
       "setup": "",
       "teardown": "",
       "type": "doctest"
      }
     ]
    },
    "q13": {
     "name": "q13",
     "points": null,
     "suites": [
      {
       "cases": [
        {
         "code": ">>> 'Total Pay ($)' in compensation.labels\nTrue",
         "hidden": false,
         "locked": false
        },
        {
         "code": ">>> t = compensation.sort('Total Pay ($)', descending=True)\n>>> t.column('Total Pay ($)').item(0)\n26039213.0",
         "hidden": false,
         "locked": false
        }
       ],
       "scored": true,
       "setup": "",
       "teardown": "",
       "type": "doctest"
      }
     ]
    },
    "q14": {
     "name": "q14",
     "points": null,
     "suites": [
      {
       "cases": [
        {
         "code": ">>> np.isclose(average_total_pay, 6332531.852459016, rtol=0.1)\nTrue",
         "hidden": false,
         "locked": false
        }
       ],
       "scored": true,
       "setup": "",
       "teardown": "",
       "type": "doctest"
      }
     ]
    },
    "q15": {
     "name": "q15",
     "points": null,
     "suites": [
      {
       "cases": [
        {
         "code": ">>> len(salary_proportion)\n61",
         "hidden": false,
         "locked": false
        },
        {
         "code": ">>> np.isclose(salary_proportion.item(0), 0.05760543, rtol=0.01)\nTrue",
         "hidden": false,
         "locked": false
        }
       ],
       "scored": true,
       "setup": "",
       "teardown": "",
       "type": "doctest"
      }
     ]
    },
    "q16": {
     "name": "q16",
     "points": null,
     "suites": [
      {
       "cases": [
        {
         "code": ">>> 'Salary (%)' in ceo_salary_percent.labels\nTrue",
         "hidden": false,
         "locked": false
        },
        {
         "code": ">>> ceo_salary_percent.column('Salary (%)')\narray([ 0.05760543,  0.07608343,  0.07795332,  0.07591789,  0.09206963,\n        0.07861614,  0.09359186,  0.09832174,  0.12477015,  0.09760807,\n        0.08138133,  0.08088759,  0.10834952,  0.08312102,  0.13057199,\n        0.11734908,  0.10559783,  0.14301581,  0.13242743,  0.1309006 ,\n        0.11535252,  0.11510684,  0.09909475,  0.14227923,  0.12938188,\n        0.13199177,  0.14885491,  0.13970102,  0.15771824,  0.24626346,\n        0.18854345,  0.0451158 ,  0.26027661,  0.2395609 ,  0.00154049,\n        0.14803769,  0.2780358 ,  0.21372872,  0.19829503,  0.16585906,\n        0.22607711,  0.2407743 ,  0.1668528 ,  0.2214442 ,  0.24098103,\n        0.55919768,  0.35886655,  0.29393877,  0.4785367 ,  0.27148586,\n        0.33083751,  0.34922361,  0.59884602,  0.38024259,  0.49788282,\n        0.4521669 ,  0.54034387,  0.71290347,  0.44748136,  0.62956028,\n        0.61018692])",
         "hidden": false,
         "locked": false
        }
       ],
       "scored": true,
       "setup": "",
       "teardown": "",
       "type": "doctest"
      }
     ]
    },
    "q19": {
     "name": "q19",
     "points": null,
     "suites": [
      {
       "cases": [
        {
         "code": ">>> num_ceos_more_than_10_million\n12",
         "hidden": false,
         "locked": false
        }
       ],
       "scored": true,
       "setup": "",
       "teardown": "",
       "type": "doctest"
      }
     ]
    },
    "q2": {
     "name": "q2",
     "points": null,
     "suites": [
      {
       "cases": [
        {
         "code": ">>> a_percentage\n70.71067811865476",
         "hidden": false,
         "locked": false
        }
       ],
       "scored": true,
       "setup": "",
       "teardown": "",
       "type": "doctest"
      }
     ]
    },
    "q3": {
     "name": "q3",
     "points": null,
     "suites": [
      {
       "cases": [
        {
         "code": ">>> disemvowel('datasceince')\n'dtscnc'",
         "hidden": false,
         "locked": false
        }
       ],
       "scored": true,
       "setup": "",
       "teardown": "",
       "type": "doctest"
      }
     ]
    },
    "q4": {
     "name": "q4",
     "points": null,
     "suites": [
      {
       "cases": [
        {
         "code": ">>> num_non_vowels('go unicorns')\n7",
         "hidden": false,
         "locked": false
        }
       ],
       "scored": true,
       "setup": "",
       "teardown": "",
       "type": "doctest"
      }
     ]
    },
    "q5": {
     "name": "q5",
     "points": null,
     "suites": [
      {
       "cases": [
        {
         "code": ">>> print_kth_top_movie_year(4)\nYear number 4 for total gross movie sales was 2009\n",
         "hidden": false,
         "locked": false
        }
       ],
       "scored": true,
       "setup": "",
       "teardown": "",
       "type": "doctest"
      }
     ]
    },
    "q7": {
     "name": "q7",
     "points": null,
     "suites": [
      {
       "cases": [
        {
         "code": ">>> import numpy\n>>> total_pay_type != numpy.ndarray\nTrue",
         "hidden": false,
         "locked": false
        },
        {
         "code": ">>> 'str' in str(total_pay_type)\nTrue",
         "hidden": false,
         "locked": false
        },
        {
         "code": ">>> total_pay_type != int\nTrue",
         "hidden": false,
         "locked": false
        }
       ],
       "scored": true,
       "setup": "",
       "teardown": "",
       "type": "doctest"
      }
     ]
    },
    "q8": {
     "name": "q8",
     "points": null,
     "suites": [
      {
       "cases": [
        {
         "code": ">>> str(brian_moynihan_pay_string)\n'$26,039,213 '",
         "hidden": false,
         "locked": false
        }
       ],
       "scored": true,
       "setup": "",
       "teardown": "",
       "type": "doctest"
      }
     ]
    },
    "q9": {
     "name": "q9",
     "points": null,
     "suites": [
      {
       "cases": [
        {
         "code": ">>> type(brian_moynihan_pay) != str\nTrue",
         "hidden": false,
         "locked": false
        },
        {
         "code": ">>> type(brian_moynihan_pay) == float\nTrue",
         "hidden": false,
         "locked": false
        },
        {
         "code": ">>> brian_moynihan_pay\n26039213.0",
         "hidden": false,
         "locked": false
        }
       ],
       "scored": true,
       "setup": "",
       "teardown": "",
       "type": "doctest"
      }
     ]
    }
   }
  }
 },
 "nbformat": 4,
 "nbformat_minor": 4
}
