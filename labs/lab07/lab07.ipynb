{
 "cells": [
  {
   "cell_type": "code",
   "execution_count": null,
   "metadata": {
    "deletable": false,
    "editable": false
   },
   "outputs": [],
   "source": [
    "# Initialize Otter\n",
    "import otter\n",
    "grader = otter.Notebook(\"lab07.ipynb\")"
   ]
  },
  {
   "cell_type": "markdown",
   "metadata": {
    "id": "YiZsTP5PjiLQ"
   },
   "source": [
    "# Lab 07: Helicopter Drop\n",
    "\n",
    "Welcome to Lab 07!\n",
    "\n",
    "In this lab we will explore a scenario that is suitable for A/B testing. A/B testing is a form of hypothesis testing that allows you to make comparisons between two distributions.\n",
    "\n",
    "For all problems that you must write our explanations and sentences for, you **must** provide your answer in the designated space. Also, throughout this lab please be sure to not re-assign variables throughout the notebook. For example, if you use `expected_proportion_correct` in your answer to one question, do not reassign it later on. Moreover, be mindful that functions that you write in earlier cells will need to be referenced to answer questions in later questions.\n",
    "\n",
    "\n",
    "**Collaboration Policy:** Data science is a collaborative activity. While you may talk with others about the labs, we ask that you **write your solutions individually**. If you do discuss the assignments with others **please include their names below** (it's a good way to learn your classmates' names).\n",
    "\n",
    "**Collaborators:** \n",
    "\n",
    "List collaborators here.\n",
    "\n",
    "First, set up the tests and imports by running the cell below."
   ]
  },
  {
   "cell_type": "code",
   "execution_count": null,
   "metadata": {
    "id": "nttVFn1wjiLQ"
   },
   "outputs": [],
   "source": [
    "# Run this cell, but please don't change it.\n",
    "import numpy as np\n",
    "from datascience import *\n",
    "import matplotlib\n",
    "%matplotlib inline\n",
    "import matplotlib.pyplot as plt\n",
    "plt.style.use('fivethirtyeight')"
   ]
  },
  {
   "cell_type": "markdown",
   "metadata": {
    "id": "4AzlG2mvjiLR"
   },
   "source": [
    "## 1. A/B Testing\n",
    "\n",
    "You'll almost never be explicitly asked to perform an A/B test. Make sure you can identify situations where the test is appropriate and know how to correctly implement each step."
   ]
  },
  {
   "cell_type": "markdown",
   "metadata": {
    "deletable": false,
    "editable": false
   },
   "source": [
    "**Question 1.** The following statements are the unordered steps of an A/B hypothesis test:\n",
    "\n",
    "1. Choose a test statistic (typically the difference in means between two categories)\n",
    "\n",
    "2. Shuffle the labels of the original sample, find your simulated test statistic, and repeat many times\n",
    "\n",
    "3. Find the value of the observed test statistic\n",
    "\n",
    "4. Calculate the p-value based off your observed and simulated test statistics\n",
    "\n",
    "5. Define a null and alternate model\n",
    "\n",
    "6. Use the p-value and p-value cutoff to draw a conclusion about the null hypothesis\n",
    "\n",
    "Make an array called `ab_test_order` that contains the correct order of an A/B test, where the first item of the array is the first step of an A/B test and the last item of the array is the last step of an A/B test\n"
   ]
  },
  {
   "cell_type": "code",
   "execution_count": null,
   "metadata": {
    "id": "-Xx3p8tejiLS",
    "tags": []
   },
   "outputs": [],
   "source": [
    "ab_test_order = ..."
   ]
  },
  {
   "cell_type": "code",
   "execution_count": null,
   "metadata": {
    "deletable": false,
    "editable": false
   },
   "outputs": [],
   "source": [
    "grader.check(\"q1\")"
   ]
  },
  {
   "cell_type": "markdown",
   "metadata": {
    "deletable": false,
    "editable": false
   },
   "source": [
    "<!-- BEGIN QUESTION -->\n",
    "\n",
    "**Question 2.** If the null hypothesis of an A/B test is correct, should the order of labels affect the differences in means between each group?\n"
   ]
  },
  {
   "cell_type": "markdown",
   "metadata": {},
   "source": [
    "_Type your answer here, replacing this text._"
   ]
  },
  {
   "cell_type": "markdown",
   "metadata": {
    "deletable": false,
    "editable": false
   },
   "source": [
    "<!-- END QUESTION -->\n",
    "\n",
    "<!-- BEGIN QUESTION -->\n",
    "\n",
    "**Question 3.** Why do we shuffle labels in an A/B test? \n"
   ]
  },
  {
   "cell_type": "markdown",
   "metadata": {},
   "source": [
    "_Type your answer here, replacing this text._"
   ]
  },
  {
   "cell_type": "markdown",
   "metadata": {
    "deletable": false,
    "editable": false,
    "id": "R412SzTDjiLU"
   },
   "source": [
    "<!-- END QUESTION -->\n",
    "\n",
    "## 2. Paper Helicopters\n",
    "\n",
    "The Paper Helicopter Experiment (https://www.paperhelicopterexperiment.com/) provides different templates for constructing paper helicopters that can be dropped. The designs can be modified to create helicopters with different dimensions for the wings, body, weighting, and more. In this lab you'll investigate whether the length of the rotor and the amount of weight attached to helicopter results in a different in the time it takes to fall from a 3rd floor stairwell. Do conduct your analysis, you'll use an A/B test.\n",
    "\n",
    "### The Data\n",
    "\n",
    "The data was collected by a group of NCSSM Online students during online weekend held October 2nd, 2021. Five groups of students dropped 143 paper helicopters in total. There were 4 unique configurations that were assigned to the groups, one per group.\n",
    "\n",
    "1. **The Default:** Full length (long) rotors, unweighted body\n",
    "\n",
    "2. **The Short:** Short rotors, unweighted body\n",
    "\n",
    "3. **The Heavy:** Long rotors, weighted body\n",
    "\n",
    "4. **The Short Heavy:** Short rotors, weighted body\n",
    "\n",
    "The following features were recorded for each helicopter dropped:\n",
    "* `Rotor`: Long or Short (string). Indicates if the helicopter had full length or shortened rotors.\n",
    "* `Weight`: Weighted or Unweighted (string). Indicates if the helicopter had a weighted (3 paperclips) or unweighted body.\n",
    "* `Team`: 1, 2, 3, 4, or 5 (int). Indicates which team\n",
    "* `Location`: Side A or Side B (string). Indicates which side of the building the helicopters were dropped from.\n",
    "* `Obstruction`: True or False (Boolean). Indicates if the helicopter hit the stairwell or other object on the way down.\n",
    "* `Time`: (Float). Time, measured in seconds, it took for the helicopter to hit the ground after being released.\n",
    "\n",
    "Run the following cell to load the data in as the table named `copters`."
   ]
  },
  {
   "cell_type": "code",
   "execution_count": null,
   "metadata": {
    "id": "8FqH40pyjiLV",
    "outputId": "b0d5e91c-ec07-491c-e8cc-4198eac5d6dd"
   },
   "outputs": [],
   "source": [
    "copters = Table.read_table('data/helicopters.csv')\n",
    "copters"
   ]
  },
  {
   "cell_type": "markdown",
   "metadata": {
    "id": "2GXPzuq8jiLV"
   },
   "source": [
    "Due to variation in the construction, weather, and randomness of the universe not every drop for each configuration was identical. Let's explore the data a bit to see how the drop times varied."
   ]
  },
  {
   "cell_type": "markdown",
   "metadata": {
    "deletable": false,
    "editable": false
   },
   "source": [
    "**Question 4.** Let's start by cleaning the data a little. This dataset has several measurements taken where the helicopter hit the stairwell, a nearby building, or some other obstruction that impacted the fall time. These results should be discarded since they wouldn't be an accurate reflection of what we're trying to measure.\n",
    "\n",
    "Create a new table called `helicopters` that only contains the rows of `copters` that correspond to a helicopter that did not hit an obstruction during the fall.\n"
   ]
  },
  {
   "cell_type": "code",
   "execution_count": null,
   "metadata": {
    "id": "Ql8YsfvXjiLW",
    "outputId": "aa265d87-ca7d-4002-cf65-9db0874c3011",
    "tags": []
   },
   "outputs": [],
   "source": [
    "helicopters = ...\n",
    "helicopters"
   ]
  },
  {
   "cell_type": "code",
   "execution_count": null,
   "metadata": {
    "deletable": false,
    "editable": false
   },
   "outputs": [],
   "source": [
    "grader.check(\"q4\")"
   ]
  },
  {
   "cell_type": "markdown",
   "metadata": {
    "deletable": false,
    "editable": false
   },
   "source": [
    "<!-- BEGIN QUESTION -->\n",
    "\n",
    "**Question 5.** Suppose you're interested in determining how the rotor length might impact fall time. Start by creating a histogram that displays the distribution of times for helicopters with long rotors. Use the provided bins stored to `my_bins`.\n"
   ]
  },
  {
   "cell_type": "code",
   "execution_count": null,
   "metadata": {
    "id": "_H35GsSZjiLY",
    "outputId": "d52df0f9-d9cd-4501-a200-5894e80bc327",
    "tags": []
   },
   "outputs": [],
   "source": [
    "my_bins = np.arange(2, 9.5, 0.5)\n",
    "..."
   ]
  },
  {
   "cell_type": "markdown",
   "metadata": {
    "deletable": false,
    "editable": false
   },
   "source": [
    "<!-- END QUESTION -->\n",
    "\n",
    "<!-- BEGIN QUESTION -->\n",
    "\n",
    "**Question 6.** Now, construct a histogram that shows the distribution of times for only helicopters with short rotors. Again, use the provided bins.\n"
   ]
  },
  {
   "cell_type": "code",
   "execution_count": null,
   "metadata": {
    "id": "twqbnUcSjiLY",
    "outputId": "a4eb7b63-c48b-444c-c8fc-c5bade6cc4dd",
    "tags": []
   },
   "outputs": [],
   "source": [
    "my_bins = np.arange(2, 9.5, 0.5)\n",
    "..."
   ]
  },
  {
   "cell_type": "markdown",
   "metadata": {
    "deletable": false,
    "editable": false,
    "id": "OFzrnxttjiLY"
   },
   "source": [
    "<!-- END QUESTION -->\n",
    "\n",
    "It can be difficult sometimes to compare two histograms when they are on separate graphs. However, by providing the argument `group` to the `.hist()` method with the label (string) for a column you wish to group by, and it will produce a histogram for each unique group.\n",
    "\n",
    "For example, `table.hist('col_label', bins=your_bins, group='feature')` would produce a histogram for each unique group found in the `feature` column of `table`, using the numerical data in the column labeled `col` label.\n",
    "\n",
    "Running the cell below will create 2 histograms, one for each group as determined by the values in the `Rotor` column."
   ]
  },
  {
   "cell_type": "code",
   "execution_count": null,
   "metadata": {
    "id": "1hK-M0I8jiLY",
    "outputId": "0019db80-d8f4-475d-dae2-18bbb9e53655"
   },
   "outputs": [],
   "source": [
    "my_bins = np.arange(2, 9.5, 0.5)\n",
    "helicopters.hist('Time', bins = my_bins, group = \"Rotor\" )"
   ]
  },
  {
   "cell_type": "markdown",
   "metadata": {
    "id": "3oNJjzVZjiLZ"
   },
   "source": [
    "You can see it's much easier to compare these two distributions now that they're on the same scale and set of axes."
   ]
  },
  {
   "cell_type": "markdown",
   "metadata": {
    "id": "9ppNQMx4jiLZ"
   },
   "source": [
    "## 3. The Rotor Question\n",
    "\n",
    "You might now be wondering if there is a difference between the fall times of helicopters with long (full length) vs. short rotors. It certainly appears that the distributions might be different than each other. We'll use our data to attempt to draw a conclusion."
   ]
  },
  {
   "cell_type": "markdown",
   "metadata": {
    "deletable": false,
    "editable": false
   },
   "source": [
    "<!-- BEGIN QUESTION -->\n",
    "\n",
    "**Question 7.** We want to know whether shortening the rotor length **causes** a change in the fall time.  \n",
    "\n",
    "Why is it not sufficient to compare fall times of the helicopters with short rotors and those with long rotors?\n"
   ]
  },
  {
   "cell_type": "markdown",
   "metadata": {},
   "source": [
    "_Type your answer here, replacing this text._"
   ]
  },
  {
   "cell_type": "markdown",
   "metadata": {
    "deletable": false,
    "editable": false
   },
   "source": [
    "<!-- END QUESTION -->\n",
    "\n",
    "<!-- BEGIN QUESTION -->\n",
    "\n",
    "**Question 8.** Why is an A/B test appropriate for this situation? What would you use as the \"A\" group (the control group) and which group is the \"B\" group (the treatment group)?\n"
   ]
  },
  {
   "cell_type": "markdown",
   "metadata": {},
   "source": [
    "_Type your answer here, replacing this text._"
   ]
  },
  {
   "cell_type": "markdown",
   "metadata": {
    "deletable": false,
    "editable": false
   },
   "source": [
    "<!-- END QUESTION -->\n",
    "\n",
    "**Question 9.**  Create a table `time_means` that contains the average fall time for the full length rotor helicopters and the shortened rotor helicopters. It should have two columns: one indicating the rotor length, and one that contains the average fall time for each group.\n",
    "\n",
    "**Hint:** Use a combination of `.select()` and `.group()` to make short work of this.\n"
   ]
  },
  {
   "cell_type": "code",
   "execution_count": null,
   "metadata": {
    "id": "lH4WnQ-SjiLa",
    "outputId": "4dadc236-3cc1-4028-fa76-5bcd7612528d",
    "tags": []
   },
   "outputs": [],
   "source": [
    "time_means = ...\n",
    "time_means"
   ]
  },
  {
   "cell_type": "code",
   "execution_count": null,
   "metadata": {
    "deletable": false,
    "editable": false
   },
   "outputs": [],
   "source": [
    "grader.check(\"q9\")"
   ]
  },
  {
   "cell_type": "markdown",
   "metadata": {
    "deletable": false,
    "editable": false
   },
   "source": [
    "<!-- BEGIN QUESTION -->\n",
    "\n",
    "**Question 10.** We want to figure out if there is a difference between the distribution of fall times for full length and shortened rotor helicopters. Specifically, we want to test if fall times were longer for longer rotor helicopters than they were for shorter rotor helicopters. \n",
    "\n",
    "What should the test statistic be? How does it help us differentiate whether the data supports the null and alternative? \n",
    "\n",
    "Confirm your answer with your instructor (or a classmate who already has) before moving on.\n",
    "\n",
    "**Note:** General statements like \"the test statistic will help us determine if there is a difference\" or \" This will help us differentiate where the data supports the null and alternative\", will be considered incomplete responses.\n"
   ]
  },
  {
   "cell_type": "markdown",
   "metadata": {},
   "source": [
    "_Type your answer here, replacing this text._"
   ]
  },
  {
   "cell_type": "markdown",
   "metadata": {
    "deletable": false,
    "editable": false
   },
   "source": [
    "<!-- END QUESTION -->\n",
    "\n",
    "**Question 11.** Calculate the test statistic for our observed data using the `time_means` table. Set `observed_difference` to the value you compute. \n"
   ]
  },
  {
   "cell_type": "code",
   "execution_count": null,
   "metadata": {
    "id": "OrVLvc6VjiLb",
    "outputId": "5ea1a20b-a6aa-41b8-d54e-5796200766d3",
    "tags": []
   },
   "outputs": [],
   "source": [
    "observed_difference = ...\n",
    "observed_difference"
   ]
  },
  {
   "cell_type": "code",
   "execution_count": null,
   "metadata": {
    "deletable": false,
    "editable": false
   },
   "outputs": [],
   "source": [
    "grader.check(\"q11\")"
   ]
  },
  {
   "cell_type": "markdown",
   "metadata": {
    "deletable": false,
    "editable": false
   },
   "source": [
    "**Question 12.** To perform an A/B test, we'll need to compute similar statistics for our many simulations we'll run. Writing a function which returns the statistic will be a great way to save time. Write a function named `find_test_stat` which takes in the arguments `table`, `labels_col`, and `values_col` that calculates the test statistic for this problem. The `table` passed into this function will be a permutation of our original table and structured the same way. `labels_col` will be passed as a string that specifies which column in the table contains the label you'll be grouping by. `values_col` specifies which column contains the values that you'll be using to compute the test statistic.\n",
    "\n",
    "When you've written this function, you can pass it any table and the two specified labels and it will compute a test statistic for an A/B test, not just for this problem, but any problem! A very handy function to keep around. \n",
    "\n",
    "Running `find_test_stat(helicopters, \"Rotor\", \"Time\")` should return the exact same value your code from the previous question computed: the difference between of average values in the \"Time column between the groups determined by \"Rotor\" column in the `helicopters` table. However, you should also be able to run `find_test_stat(helicopters, \"Weight\", \"Time\")` to compute the difference between of average values in the **\"Weight\"** column between the groups determined by \"Rotor\" column in the `helicopters` table just as easily. \n"
   ]
  },
  {
   "cell_type": "code",
   "execution_count": null,
   "metadata": {
    "id": "pX58mO0VjiLc",
    "outputId": "24cbcc47-0199-4a7a-e3f9-4f147a50e6d6",
    "tags": []
   },
   "outputs": [],
   "source": [
    "def find_test_stat(table, labels_col, values_col):\n",
    "    ...\n",
    "find_test_stat(helicopters, \"Rotor\", \"Time\")"
   ]
  },
  {
   "cell_type": "code",
   "execution_count": null,
   "metadata": {
    "deletable": false,
    "editable": false
   },
   "outputs": [],
   "source": [
    "grader.check(\"q12\")"
   ]
  },
  {
   "cell_type": "markdown",
   "metadata": {
    "id": "F2G3LV9MjiLd"
   },
   "source": [
    "When we run a simulation for A/B testing, we resample the data by shuffling the labels of the original sample. If the null hypothesis is true and the time distributions **are** the same, we expect that the difference in mean time will be not change when \"Rotor\" labels are changed."
   ]
  },
  {
   "cell_type": "markdown",
   "metadata": {
    "deletable": false,
    "editable": false
   },
   "source": [
    "**Question 13.** Write a function `simulate_and_test_statistic` to compute one trial of our A/B test. Your function should run a simulation and return a test statistic.\n",
    "\n",
    "**Hint:** You can \"shuffle\" the labels by using `.sample(with_replacement = False)` on the table, and then just select the column (as an array using `.column`) that contains the newly shuffled labels. After that, you can either overwrite the existing labels, or, extend the table with a new column labeled something like \"shuffled labels\". Just make sure you pass the correct label on to `find_test_stat`!\n",
    "\n",
    "**Note:** The autograder test here is fairly lenient, if you have an issue with the following questions, make sure to take a look at your answer to the previous question. Specifically, make sure that you are taking the directionality of our alternative hypothesis into account, meaning, check the order in which you are subtracting the average times.\n"
   ]
  },
  {
   "cell_type": "code",
   "execution_count": null,
   "metadata": {
    "id": "ONqbs6igjiLd",
    "outputId": "2002b688-7263-4e54-b8bd-53a7d303b122",
    "tags": []
   },
   "outputs": [],
   "source": [
    "def simulate_and_test_statistic(table, labels_col, values_col):\n",
    "    ...\n",
    "    \n",
    "simulate_and_test_statistic(helicopters, \"Rotor\", \"Time\")"
   ]
  },
  {
   "cell_type": "code",
   "execution_count": null,
   "metadata": {
    "deletable": false,
    "editable": false
   },
   "outputs": [],
   "source": [
    "grader.check(\"q13\")"
   ]
  },
  {
   "cell_type": "markdown",
   "metadata": {
    "deletable": false,
    "editable": false
   },
   "source": [
    "**Question 14.** Now that we can quickly shuffle the labels and compute a test statistic, simulate 5000 trials of our A/B test and store the test statistics in an array called `differences`.\n"
   ]
  },
  {
   "cell_type": "code",
   "execution_count": null,
   "metadata": {
    "id": "3hMhpW33jiLe",
    "outputId": "d73a4900-b4e8-4e30-efc1-b40181a8bdd9",
    "tags": []
   },
   "outputs": [],
   "source": [
    "# This cell might take a couple seconds to run\n",
    "differences = make_array()\n",
    "...\n",
    "differences"
   ]
  },
  {
   "cell_type": "code",
   "execution_count": null,
   "metadata": {
    "deletable": false,
    "editable": false
   },
   "outputs": [],
   "source": [
    "grader.check(\"q14\")"
   ]
  },
  {
   "cell_type": "markdown",
   "metadata": {
    "id": "G1sI6sJ7jiLe"
   },
   "source": [
    "Run the cell below to view a histogram of your simulated test statistics plotted with your observed test statistic."
   ]
  },
  {
   "cell_type": "code",
   "execution_count": null,
   "metadata": {
    "id": "a21Al8EqjiLf",
    "outputId": "969f25cc-8056-4640-ae47-f0727c0d59e8"
   },
   "outputs": [],
   "source": [
    "Table().with_column('Difference Between Group Means', differences).hist()\n",
    "plt.scatter(observed_difference, -0.01, color = 'red', s = 60, zorder = 2);"
   ]
  },
  {
   "cell_type": "markdown",
   "metadata": {
    "deletable": false,
    "editable": false
   },
   "source": [
    "**Question 15.** Find the p-value for your test and assign it to `empirical_P`.\n"
   ]
  },
  {
   "cell_type": "code",
   "execution_count": null,
   "metadata": {
    "id": "KAAsJRNMjiLf",
    "outputId": "5a2f83a2-f07d-4957-8fd3-4274a8a7139d",
    "tags": []
   },
   "outputs": [],
   "source": [
    "empirical_P = ...\n",
    "empirical_P"
   ]
  },
  {
   "cell_type": "code",
   "execution_count": null,
   "metadata": {
    "deletable": false,
    "editable": false
   },
   "outputs": [],
   "source": [
    "grader.check(\"q15\")"
   ]
  },
  {
   "cell_type": "markdown",
   "metadata": {
    "deletable": false,
    "editable": false
   },
   "source": [
    "<!-- BEGIN QUESTION -->\n",
    "\n",
    "**Question 16.** Using a 5% P-value cutoff, draw a conclusion about the null and alternative hypotheses. Describe your findings using simple, non-technical language. What does your analysis tell you about fall times of helicopters with full length vs shortened rotors? What can you claim about causation from your statistical analysis?\n"
   ]
  },
  {
   "cell_type": "markdown",
   "metadata": {},
   "source": [
    "_Type your answer here, replacing this text._"
   ]
  },
  {
   "cell_type": "markdown",
   "metadata": {
    "deletable": false,
    "editable": false
   },
   "source": [
    "<!-- END QUESTION -->\n",
    "\n"
   ]
  },
  {
   "cell_type": "markdown",
   "metadata": {
    "deletable": false,
    "editable": false
   },
   "source": [
    "## Submission\n",
    "\n",
    "Make sure you have run all cells in your notebook in order before running the cell below, so that all images/graphs appear in the output. The cell below will generate a zip file for you to submit. **Please save before exporting!**\n",
    "\n",
    "When done exporting, download the .zip file by finding it in the file browswer on the left side of the screen, then right-click and select **Download**. You'll submit this .zip file for the assignment in Canvas to Gradescope for grading."
   ]
  },
  {
   "cell_type": "code",
   "execution_count": null,
   "metadata": {
    "deletable": false,
    "editable": false
   },
   "outputs": [],
   "source": [
    "# Save your notebook first, then run this cell to export your submission.\n",
    "grader.export(pdf=False, run_tests=True)"
   ]
  },
  {
   "cell_type": "markdown",
   "metadata": {},
   "source": [
    " "
   ]
  }
 ],
 "metadata": {
  "colab": {
   "name": "lab07.ipynb",
   "provenance": []
  },
  "kernelspec": {
   "display_name": "Python 3 (ipykernel)",
   "language": "python",
   "name": "python3"
  },
  "language_info": {
   "codemirror_mode": {
    "name": "ipython",
    "version": 3
   },
   "file_extension": ".py",
   "mimetype": "text/x-python",
   "name": "python",
   "nbconvert_exporter": "python",
   "pygments_lexer": "ipython3",
   "version": "3.11.5"
  },
  "otter": {
   "OK_FORMAT": true,
   "tests": {
    "q1": {
     "name": "q1",
     "points": null,
     "suites": [
      {
       "cases": [
        {
         "code": ">>> len(ab_test_order)\n6",
         "hidden": false,
         "locked": false
        },
        {
         "code": ">>> isinstance(ab_test_order, np.ndarray)\nTrue",
         "hidden": false,
         "locked": false
        }
       ],
       "scored": true,
       "setup": "",
       "teardown": "",
       "type": "doctest"
      }
     ]
    },
    "q11": {
     "name": "q11",
     "points": null,
     "suites": [
      {
       "cases": [
        {
         "code": ">>> isinstance(observed_difference, float)\nTrue",
         "hidden": false,
         "locked": false
        },
        {
         "code": ">>> round(observed_difference, 3)\n1.647",
         "hidden": false,
         "locked": false
        }
       ],
       "scored": true,
       "setup": "",
       "teardown": "",
       "type": "doctest"
      }
     ]
    },
    "q12": {
     "name": "q12",
     "points": null,
     "suites": [
      {
       "cases": [
        {
         "code": ">>> round(find_test_stat(helicopters, 'Rotor', 'Time'), 3)\n1.647",
         "hidden": false,
         "locked": false
        },
        {
         "code": ">>> round(find_test_stat(helicopters, 'Weight', 'Time'), 3)\n1.0",
         "hidden": false,
         "locked": false
        }
       ],
       "scored": true,
       "setup": "",
       "teardown": "",
       "type": "doctest"
      }
     ]
    },
    "q13": {
     "name": "q13",
     "points": null,
     "suites": [
      {
       "cases": [
        {
         "code": ">>> np.random.seed(123)\n>>> 0 < round(simulate_and_test_statistic(helicopters, 'Rotor', 'Time'), 3) < 1\nTrue",
         "hidden": false,
         "locked": false
        }
       ],
       "scored": true,
       "setup": "",
       "teardown": "",
       "type": "doctest"
      }
     ]
    },
    "q14": {
     "name": "q14",
     "points": null,
     "suites": [
      {
       "cases": [
        {
         "code": ">>> len(differences)\n5000",
         "hidden": false,
         "locked": false
        },
        {
         "code": ">>> abs(np.average(differences)) < 1\nTrue",
         "hidden": false,
         "locked": false
        },
        {
         "code": ">>> all(differences == differences.item(0)) == False\nTrue",
         "hidden": false,
         "locked": false
        }
       ],
       "scored": true,
       "setup": "",
       "teardown": "",
       "type": "doctest"
      }
     ]
    },
    "q15": {
     "name": "q15",
     "points": null,
     "suites": [
      {
       "cases": [
        {
         "code": ">>> empirical_P < 0.05\nTrue",
         "hidden": false,
         "locked": false
        }
       ],
       "scored": true,
       "setup": "",
       "teardown": "",
       "type": "doctest"
      }
     ]
    },
    "q4": {
     "name": "q4",
     "points": null,
     "suites": [
      {
       "cases": [
        {
         "code": ">>> helicopters.num_rows\n130",
         "hidden": false,
         "locked": false
        },
        {
         "code": ">>> all(helicopters.column('Obstruction') == False)\nTrue",
         "hidden": false,
         "locked": false
        }
       ],
       "scored": true,
       "setup": "",
       "teardown": "",
       "type": "doctest"
      }
     ]
    },
    "q9": {
     "name": "q9",
     "points": null,
     "suites": [
      {
       "cases": [
        {
         "code": ">>> time_means.num_rows\n2",
         "hidden": false,
         "locked": false
        },
        {
         "code": ">>> time_means.where('Rotor', 'Long').column(1).item(0)\n5.610666666666667",
         "hidden": false,
         "locked": false
        },
        {
         "code": ">>> time_means.where('Rotor', 'Short').column(1).item(0)\n3.963636363636364",
         "hidden": false,
         "locked": false
        }
       ],
       "scored": true,
       "setup": "",
       "teardown": "",
       "type": "doctest"
      }
     ]
    }
   }
  }
 },
 "nbformat": 4,
 "nbformat_minor": 4
}
