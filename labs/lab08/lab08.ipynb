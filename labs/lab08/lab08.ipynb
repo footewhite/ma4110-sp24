{
 "cells": [
  {
   "cell_type": "code",
   "execution_count": null,
   "metadata": {
    "deletable": false,
    "editable": false
   },
   "outputs": [],
   "source": [
    "# Initialize Otter\n",
    "import otter\n",
    "grader = otter.Notebook(\"lab08.ipynb\")"
   ]
  },
  {
   "cell_type": "markdown",
   "metadata": {},
   "source": [
    "# Lab 08: Normal Distribution and Variance of Sample Means\n",
    "\n",
    "Welcome to Lab 08!\n",
    "\n",
    "In today's lab, we will learn about [the variance of sample means](https://inferentialthinking.com/chapters/14/2/Variability.html) as well as [the normal distribution](https://inferentialthinking.com/chapters/14/3/SD_and_the_Normal_Curve.html).\n",
    "\n",
    "For all problems that you must write our explanations and sentences for, you **must** provide your answer in the designated space. Also, throughout this lab please be sure to not re-assign variables throughout the notebook. For example, if you use `expected_proportion_correct` in your answer to one question, do not reassign it later on. Moreover, be mindful that functions that you write in earlier cells will need to be referenced to answer questions in later questions.\n",
    "\n",
    "\n",
    "**Collaboration Policy:** Data science is a collaborative activity. While you may talk with others about the labs, we ask that you **write your solutions individually**. If you do discuss the assignments with others **please include their names below** (it's a good way to learn your classmates' names).\n",
    "\n",
    "**Collaborators:** \n",
    "\n",
    "List collaborators here.\n",
    "\n",
    "First, set up the tests and imports by running the cell below."
   ]
  },
  {
   "cell_type": "code",
   "execution_count": null,
   "metadata": {},
   "outputs": [],
   "source": [
    "# Run this cell, but please don't change it.\n",
    "import numpy as np\n",
    "import math\n",
    "from datascience import *\n",
    "\n",
    "# These lines do some fancy plotting.\n",
    "import matplotlib\n",
    "%matplotlib inline\n",
    "import matplotlib.pyplot as plt\n",
    "plt.style.use('fivethirtyeight')\n",
    "import warnings\n",
    "warnings.simplefilter('ignore', FutureWarning)"
   ]
  },
  {
   "cell_type": "markdown",
   "metadata": {},
   "source": [
    "# 1. Normal Distributions\n",
    "\n",
    "When we visualize the distribution of a sample, we are often interested in the mean and the standard deviation of the sample (for the rest of this lab, we will abbreviate “standard deviation” as “SD”). These two summary statistics can give us a bird’s eye view of the distribution - by letting us know where the distribution sits on the number line and how spread out it is, respectively. "
   ]
  },
  {
   "cell_type": "markdown",
   "metadata": {
    "deletable": false,
    "editable": false
   },
   "source": [
    "<!-- BEGIN QUESTION -->\n",
    "\n",
    "**Question 1.** The next cell loads the table `births` from a previous lesson, which is a large random sample of US births and includes information about mother-child pairs. \n",
    "\n",
    "Plot the **distribution** of mother’s ages from the table. Don’t change the last line of code, which will automatically plot the mean value of the sample on the distribution as a red triangle.\n"
   ]
  },
  {
   "cell_type": "code",
   "execution_count": null,
   "metadata": {
    "tags": []
   },
   "outputs": [],
   "source": [
    "births = Table().read_table('data/baby.csv')\n",
    "...\n",
    "\n",
    "# Do not change this line\n",
    "plt.scatter(np.mean(births.column('Maternal Age')), -0.001, color = 'red', s = 50 , marker = \"^\");"
   ]
  },
  {
   "cell_type": "markdown",
   "metadata": {
    "deletable": false,
    "editable": false
   },
   "source": [
    "<!-- END QUESTION -->\n",
    "\n",
    "From the plot above, we can see that the mean is the center of gravity or balance point of the distribution. If you cut the distribution out of cardboard, and then placed your finger at the mean, the distribution would perfectly balance on your finger. Since the distribution above is right skewed (which means it has a long right tail), we know that the mean of the distribution is larger than the median, which is the “halfway” point of the data. Conversely, if the distribution had been left skewed, we know the mean would be smaller than the median.\n",
    "\n",
    "Run the following cell to compare the mean (red) and median (green) of the distribution of mothers ages."
   ]
  },
  {
   "cell_type": "code",
   "execution_count": null,
   "metadata": {},
   "outputs": [],
   "source": [
    "births.hist('Maternal Age')\n",
    "plt.scatter(np.mean(births.column('Maternal Age')), -0.001, color = 'red', s = 50, marker = \"^\");\n",
    "plt.scatter(np.median(births.column('Maternal Age')), -0.001, color = 'green', s = 50, marker = \"^\");"
   ]
  },
  {
   "cell_type": "markdown",
   "metadata": {
    "deletable": false,
    "editable": false
   },
   "source": [
    "**Question 2.** Assign `mean_median` to one of the following three integers, depending on the value of the mean (red) and median (green) for Maternal Age.\n",
    "\n",
    "1. The mean equal to the median.\n",
    "\n",
    "2. The mean is greater than the median.\n",
    "\n",
    "3. The mean is less than the median.\n"
   ]
  },
  {
   "cell_type": "code",
   "execution_count": null,
   "metadata": {
    "tags": []
   },
   "outputs": [],
   "source": [
    "mean_median = ..."
   ]
  },
  {
   "cell_type": "code",
   "execution_count": null,
   "metadata": {
    "deletable": false,
    "editable": false
   },
   "outputs": [],
   "source": [
    "grader.check(\"q2\")"
   ]
  },
  {
   "cell_type": "markdown",
   "metadata": {},
   "source": [
    "We are also interested in the standard deviation of mother’s ages. The SD gives us a sense of how variable mothers' ages are around the average mothers' age. If the SD is large, then the mothers' age should spread over a large range from the mean. If the SD is small, then the mothers' age should be tightly clustered around the average mother age. \n",
    "\n",
    "**The SD of an array is defined as the root mean square of deviations (differences) from the average**.\n",
    "\n",
    "Fun fact, σ (Greek letter sigma) is used to represent the SD of a population and  μ (Greek letter mu) is used for the mean of a population."
   ]
  },
  {
   "cell_type": "markdown",
   "metadata": {
    "deletable": false,
    "editable": false
   },
   "source": [
    "**Question 3.** Complete the cell below to calculate the mean and SD of `Maternal Age`. Assign these values to `age_mean` and `age_sd` respectively. \n",
    "\n",
    "Then, run the cell to see blue triangles that are one SD away from the sample mean marked in red.\n"
   ]
  },
  {
   "cell_type": "code",
   "execution_count": null,
   "metadata": {
    "tags": []
   },
   "outputs": [],
   "source": [
    "age_mean = ...\n",
    "age_sd = ...\n",
    "births.hist('Maternal Age')\n",
    "\n",
    "plt.scatter(age_mean, -0.001, color = 'red', s = 50, marker = '^');\n",
    "plt.scatter(age_mean + age_sd, -0.001, marker = '^', color = 'blue', s = 50);\n",
    "plt.scatter(age_mean - age_sd, -0.001, marker = '^', color = 'blue', s = 50);"
   ]
  },
  {
   "cell_type": "code",
   "execution_count": null,
   "metadata": {
    "deletable": false,
    "editable": false
   },
   "outputs": [],
   "source": [
    "grader.check(\"q3\")"
   ]
  },
  {
   "cell_type": "markdown",
   "metadata": {},
   "source": [
    "In the histogram above, there aren't any characteristics or shapes that make estimating the standard deviation easy just by looking at the graph.\n",
    "\n",
    "However, the distributions of some variables allow us to easily spot the standard deviation from the histogram. Specifically, if a sample follows a **normal distribution**, the standard deviation is easily spotted at the point of inflection (the point where the curve begins to change the direction of its curvature) of the distribution."
   ]
  },
  {
   "cell_type": "markdown",
   "metadata": {
    "deletable": false,
    "editable": false
   },
   "source": [
    "**Question 4.** Fill in the following code to calculate the mean and standard deviation of maternal heights, which **are** roughly normally distributed. \n",
    "\n",
    "Then, run the provided code to plot the standard deviation on the histogram, as before - notice where one standard deviation (blue) away from the mean (red) falls on the plot.\n"
   ]
  },
  {
   "cell_type": "code",
   "execution_count": null,
   "metadata": {
    "tags": []
   },
   "outputs": [],
   "source": [
    "height_mean = ...\n",
    "height_sd = ...\n",
    "births.hist('Maternal Height', bins = np.arange(55,75,1))\n",
    "\n",
    "plt.scatter((height_mean), -0.003, color = 'red', s = 50, marker = '^');\n",
    "plt.scatter(height_mean + height_sd, -0.003, marker = '^', color = 'blue', s = 50);\n",
    "plt.scatter(height_mean - height_sd, -0.003, marker = '^', color = 'blue', s = 50);"
   ]
  },
  {
   "cell_type": "code",
   "execution_count": null,
   "metadata": {
    "deletable": false,
    "editable": false
   },
   "outputs": [],
   "source": [
    "grader.check(\"q4\")"
   ]
  },
  {
   "cell_type": "markdown",
   "metadata": {},
   "source": [
    "We don’t always know how a variable will be distributed, and making assumptions about whether or not a variable will follow a normal distribution is dangerous. However, the **Central Limit Theorem** defines one distribution that *always* follows a normal distribution. The distribution of the *sums* and *means* of many large random samples drawn with replacement from a single distribution (regardless of the distributions original shape) will be normally distributed. \n",
    "\n",
    "**Remember** the Central Limit Theorem refers to the distribution of a *statistic* calculated from a distribution, not the distribution of the original sample or population.\n",
    "\n",
    "The next section will explore distributions of one statistic, the sample mean, and you will see how the standard deviation of these distributions depends on the size of your sample."
   ]
  },
  {
   "cell_type": "markdown",
   "metadata": {},
   "source": [
    "# 2. Variability of the Sample Mean\n",
    "\n",
    "As mentioned in the previous question, the [Central Limit Theorem](https://www.inferentialthinking.com/chapters/14/4/Central_Limit_Theorem.html) guarantees that the probability distribution of the mean of a large random sample will be roughly normal. The bell shaped curve of the sample means will be centered at the mean of the population. Due to chance, some of the sample means are higher than the population mean and some will be lower, but the deviations from the population mean are roughly symmetric on either side, as we have seen repeatedly. Formally, probability theory shows that the sample mean is an **unbiased estimate** of the population mean.\n",
    "\n",
    "In our simulations, we also noticed that the means of larger samples tend to be more tightly clustered around the population mean than means of smaller samples. In this section, we will quantify the [variability of the sample mean](https://www.inferentialthinking.com/chapters/14/5/Variability_of_the_Sample_Mean.html) and develop a relation between the variability and the sample size.\n",
    "\n",
    "Let's take a look at the salaries of employees of the City of San Francisco in 2014. The mean salary reported by the city government was about $75,463.92.\n",
    "\n",
    "**Note:** If you get stuck on any part of this lab, please refer to [Chapter 14 of the textbook](https://www.inferentialthinking.com/chapters/14/Why_the_Mean_Matters.html)."
   ]
  },
  {
   "cell_type": "code",
   "execution_count": null,
   "metadata": {},
   "outputs": [],
   "source": [
    "salaries = Table().read_table('data/sf_salaries_2014.csv').select('salary')\n",
    "salaries"
   ]
  },
  {
   "cell_type": "markdown",
   "metadata": {},
   "source": [
    "Running the cell below will calculate the mean salary from the 2014 dataset. Since this dataset encompasses **every** city employee, we can consider it our population."
   ]
  },
  {
   "cell_type": "code",
   "execution_count": null,
   "metadata": {},
   "outputs": [],
   "source": [
    "salary_mean = np.mean(salaries.column('salary'))\n",
    "print('Mean salary of San Francisco city employees in 2014 was ', round(salary_mean, 2))"
   ]
  },
  {
   "cell_type": "markdown",
   "metadata": {},
   "source": [
    "Running the cell below will show the distribution of salaries for city employees and show the population mean marked with a red triangle."
   ]
  },
  {
   "cell_type": "code",
   "execution_count": null,
   "metadata": {},
   "outputs": [],
   "source": [
    "salaries.hist('salary', bins = np.arange(0, 300000+10000*2, 10000))\n",
    "plt.scatter(salary_mean, -0.0000002, marker = '^', color = 'red', s = 50);\n",
    "plt.title('2014 Salaries of City of SF Employees');"
   ]
  },
  {
   "cell_type": "markdown",
   "metadata": {},
   "source": [
    "Clearly, this population does not follow a normal distribution due to the large percentage of city workers that earn between $\\text{\\$0}$ and $\\text{\\$10,000}$. Keep that in mind as we progress through these exercises.\n",
    "\n",
    "In this question we will take random samples **without replacement**, compute the mean value of each sample, and visually inspect the distribution of the sample means. The goal will be to investigate how the size of the sample that we take impacts the distribution of the sample means. \n",
    "\n",
    "Throughout this problem, remember, this is an investigation to uncover a pattern between sample size and the distribution of sample means. If all you were interested in was computing the average salary of a San Francisco city worker, this would be unnecessary (we already know that value!). This is to help us better understand how if we were to take a sample from a population that we didn't have a full dataset about, how the choice of the sample size may impact the analysis that we'd do."
   ]
  },
  {
   "cell_type": "markdown",
   "metadata": {
    "deletable": false,
    "editable": false
   },
   "source": [
    "**Question 5.** Define a function `one_sample_mean`. Its arguments are be `table` (the table to use), `label` (the label of the column containing the variable), and `sample size`(the number of employees in the sample). It should sample without replacement from the table and return the mean of the data in the `label` column in the sample.\n",
    "\n",
    "Running `one_sample_mean(salaries, 'salary', 100)` would draw one random sample of size 100 from the `salaries` table and return the average value of the `salary` column of that sample.\n"
   ]
  },
  {
   "cell_type": "code",
   "execution_count": null,
   "metadata": {
    "tags": []
   },
   "outputs": [],
   "source": [
    "def one_sample_mean(table, label, sample_size):\n",
    "    new_sample = ...\n",
    "    new_sample_mean = ...\n",
    "    ..."
   ]
  },
  {
   "cell_type": "code",
   "execution_count": null,
   "metadata": {
    "deletable": false,
    "editable": false
   },
   "outputs": [],
   "source": [
    "grader.check(\"q5\")"
   ]
  },
  {
   "cell_type": "markdown",
   "metadata": {
    "deletable": false,
    "editable": false
   },
   "source": [
    "<!-- BEGIN QUESTION -->\n",
    "\n",
    "**Question 6.** Now, let's run a simulation to generate many samples and compute their corresponding sample means. To do this, define the function `simulate_sample_mean` whose arguments are the name of the table, the label of the column containing the variable, the sample size, and the number of simulations. Be sure to use the function `one_sample_mean` you defined in the previous problem to create a sample and compute the mean. Use the provided array `means` to append each of the sample means into as they are computed.\n",
    "\n",
    "The remaining code in the function will create a table named `sample_means` out of the array named `means`, compute some statistics about the simulated sample means, and then display a histogram of the distribution of sample means. Lastly, it returns a single value which is the standard deviation of the simulated sample means.\n",
    "\n",
    "This one function does a lot of things!\n"
   ]
  },
  {
   "cell_type": "code",
   "execution_count": null,
   "metadata": {
    "tags": []
   },
   "outputs": [],
   "source": [
    "\"\"\"Empirical distribution of random sample means\"\"\"\n",
    "def simulate_sample_mean(table, label, sample_size, repetitions):\n",
    "    means = make_array()\n",
    "    for i in np.arange(repetitions):\n",
    "        new_sample_mean = ...\n",
    "        means = ...\n",
    "    sample_means = Table().with_column('Sample Means', means)\n",
    "    \n",
    "    # Display empirical histogram and print all relevant quantities – don't change this!\n",
    "    sample_means.hist(bins = 20)\n",
    "    plt.xlabel('Sample Means')\n",
    "    plt.title('Sample Size ' + str(sample_size))\n",
    "    print('Sample size: ', sample_size)\n",
    "    print('Population mean: ', np.mean(table.column(label)))\n",
    "    print('Average of sample means: ', np.mean(means))\n",
    "    print('Population SD: ', np.std(table.column(label)))\n",
    "    print('SD of sample means: ', np.std(means))\n",
    "    return np.std(means)"
   ]
  },
  {
   "cell_type": "markdown",
   "metadata": {
    "deletable": false,
    "editable": false
   },
   "source": [
    "<!-- END QUESTION -->\n",
    "\n",
    "In the following cell, the code will use your `simulate_sample_mean` function to create 10,000 samples, each of size 100, from `salaries`, compute the sample mean for each sample, display the statistics about those sample means, then create a histogram so you can see how those sample means are distributed. If any of those steps don't seem to be working correctly, reach out to a classmate or instructor to sort out the issue. \n",
    "\n",
    "**Important:** The rest of the lab requires this function to be working correctly, so make sure that everything is working as intended before moving on!"
   ]
  },
  {
   "cell_type": "code",
   "execution_count": null,
   "metadata": {},
   "outputs": [],
   "source": [
    "simulate_sample_mean(salaries, 'salary', 100, 10000) \n",
    "plt.xlim(50000, 100000);"
   ]
  },
  {
   "cell_type": "markdown",
   "metadata": {
    "deletable": false,
    "editable": false
   },
   "source": [
    "<!-- BEGIN QUESTION -->\n",
    "\n",
    "**Question 7.** Let's put the `simulate_sample_mean` function to the test!\n",
    "\n",
    "First, use the `simulate_sample_mean` function to investigate the distribution of sample means for the `'salary'` column in the `salaries` table that is created when you compute 10,000 samples of size of 400. \n",
    "\n",
    "**Note:** Don't worry about the `plots.xlim()` line – it just makes sure that all of the plots generated in this section have the same x-axis, ranging from 50,000 to 100,000. \n"
   ]
  },
  {
   "cell_type": "code",
   "execution_count": null,
   "metadata": {
    "tags": []
   },
   "outputs": [],
   "source": [
    "simulate_sample_mean(..., ..., ..., ...)\n",
    "plt.xlim(50000, 100000);"
   ]
  },
  {
   "cell_type": "markdown",
   "metadata": {
    "deletable": false,
    "editable": false
   },
   "source": [
    "<!-- END QUESTION -->\n",
    "\n",
    "<!-- BEGIN QUESTION -->\n",
    "\n",
    "**Question 8.** Now, use the `simulate_sample_mean` function to investigate the distribution of sample means for the `'salary'` column in the `salaries` table that is created when you compute 10,000 samples of size of 625. \n"
   ]
  },
  {
   "cell_type": "code",
   "execution_count": null,
   "metadata": {
    "tags": []
   },
   "outputs": [],
   "source": [
    "simulate_sample_mean(..., ..., ..., ...)\n",
    "plt.xlim(50000, 100000);"
   ]
  },
  {
   "cell_type": "markdown",
   "metadata": {
    "deletable": false,
    "editable": false
   },
   "source": [
    "<!-- END QUESTION -->\n",
    "\n",
    "**Question 9.** Take a moment and compare the histograms that were generated in the previous problems. Then, use the `make_array` function to assign `q9` to an array of numbers corresponding to those statements below that are TRUE about the plots from Question 2.3.\n",
    "\n",
    "1. We see the Central Limit Theorem (CLT) in action because the distributions of the sample means are bell-shaped.\n",
    "\n",
    "2. We see the Law of Averages in action because the distributions of the sample means look like the distribution of the population.\n",
    "\n",
    "3. One of the conditions for CLT is that we have to draw a small random sample with replacement from the population.\n",
    "\n",
    "4. One of the conditions for CLT is that we have to draw a large random sample with replacement from the population.\n",
    "\n",
    "5. One of the conditions for CLT is that the population must be normally distributed.\n",
    "\n",
    "6. Both plots in 2.3 are roughly centered around the population mean.\n",
    "\n",
    "7. Both plots in 2.3 are roughly centered around the mean of a particular sample.\n",
    "\n",
    "8. The distribution of sample means for sample size 625 has less variability than the distribution of sample means for sample size 400.\n",
    "\n",
    "9. The distribution of sample means for sample size 625 has more variability than the distribution of sample means for sample size 400.\n"
   ]
  },
  {
   "cell_type": "code",
   "execution_count": null,
   "metadata": {
    "tags": []
   },
   "outputs": [],
   "source": [
    "q9 = ..."
   ]
  },
  {
   "cell_type": "code",
   "execution_count": null,
   "metadata": {
    "deletable": false,
    "editable": false
   },
   "outputs": [],
   "source": [
    "grader.check(\"q9\")"
   ]
  },
  {
   "cell_type": "markdown",
   "metadata": {},
   "source": [
    "## Number of Samples\n",
    "\n",
    "Next, we'll look at what happens if we keep the sample size fixed, but take an increasing number of samples. Notice that in each line of code, the sample size is 100. What changes is how many samples are drawn from the `salaries` table: 500, 1000, 5000, 10000. As you run the cells, think about how the distribution of the sample means change?"
   ]
  },
  {
   "cell_type": "code",
   "execution_count": null,
   "metadata": {},
   "outputs": [],
   "source": [
    "simulate_sample_mean(salaries, 'salary', 100, 500)\n",
    "plt.xlim(50000, 100000);"
   ]
  },
  {
   "cell_type": "code",
   "execution_count": null,
   "metadata": {},
   "outputs": [],
   "source": [
    "simulate_sample_mean(salaries, 'salary', 100, 1000)\n",
    "plt.xlim(50000, 100000);"
   ]
  },
  {
   "cell_type": "code",
   "execution_count": null,
   "metadata": {},
   "outputs": [],
   "source": [
    "simulate_sample_mean(salaries, 'salary', 100, 5000)\n",
    "plt.xlim(50000, 100000);"
   ]
  },
  {
   "cell_type": "code",
   "execution_count": null,
   "metadata": {},
   "outputs": [],
   "source": [
    "simulate_sample_mean(salaries, 'salary', 100, 10000)\n",
    "plt.xlim(50000, 100000);"
   ]
  },
  {
   "cell_type": "markdown",
   "metadata": {},
   "source": [
    "Discuss with your classmates what you noticed about the distributions of sample means in the four histograms above. You'll use your observations to answer the following questions."
   ]
  },
  {
   "cell_type": "markdown",
   "metadata": {
    "deletable": false,
    "editable": false
   },
   "source": [
    "**Question 10.** Assign the variable `SD_of_sample_means` to the integer corresponding to your answer to the following question:\n",
    "\n",
    "When I increase the number of samples that I take, for a fixed sample size, the SD of my sample means will...\n",
    "\n",
    "1. Increase\n",
    "\n",
    "2. Decrease\n",
    "\n",
    "3. Stay about the same\n",
    "\n",
    "4. Vary widely\n"
   ]
  },
  {
   "cell_type": "code",
   "execution_count": null,
   "metadata": {
    "tags": []
   },
   "outputs": [],
   "source": [
    "SD_of_sample_means = ..."
   ]
  },
  {
   "cell_type": "code",
   "execution_count": null,
   "metadata": {
    "deletable": false,
    "editable": false
   },
   "outputs": [],
   "source": [
    "grader.check(\"q10\")"
   ]
  },
  {
   "cell_type": "markdown",
   "metadata": {
    "deletable": false,
    "editable": false
   },
   "source": [
    "**Question 11.**  Let's think about how the relationships between:\n",
    "\n",
    "* The SD of the values in a population (population SD)\n",
    "\n",
    "* The SD of the values in a single sample (sample SD)\n",
    "\n",
    "* The SD of the sample mean statistic (SD of sample means)\n",
    "\n",
    "change with varying sample size. \n",
    "\n",
    "Which of the following is true? Assign the variable `pop_vs_sample` to an array of integer(s) that correspond to true statement(s).\n",
    "\n",
    "1. Sample SD gets smaller with increasing sample size.\n",
    "\n",
    "2. Sample SD gets larger with increasing sample size.\n",
    "\n",
    "3. Sample SD becomes more consistent with population SD with increasing sample size.\n",
    "\n",
    "4. SD of sample means gets smaller with increasing sample size.\n",
    "\n",
    "5. SD of sample means gets larger with increasing sample size.\n",
    "\n",
    "6. SD of sample means stays the same with increasing sample size.\n"
   ]
  },
  {
   "cell_type": "code",
   "execution_count": null,
   "metadata": {
    "tags": []
   },
   "outputs": [],
   "source": [
    "pop_vs_sample = ..."
   ]
  },
  {
   "cell_type": "code",
   "execution_count": null,
   "metadata": {
    "deletable": false,
    "editable": false
   },
   "outputs": [],
   "source": [
    "grader.check(\"q11\")"
   ]
  },
  {
   "cell_type": "markdown",
   "metadata": {},
   "source": [
    "If you need help making a decision for the previous question, read/run the following cells."
   ]
  },
  {
   "cell_type": "markdown",
   "metadata": {},
   "source": [
    "## Additional Data on Sample SD and SD of Sample Means\n",
    "\n",
    "Run the following three cells multiple times and examine how the sample SD and the SD of sample means change with sample size.\n",
    "\n",
    "The first histogram is of the sample; the second histogram is the distribution of sample means with that particular sample size. Adjust the bins as necessary."
   ]
  },
  {
   "cell_type": "code",
   "execution_count": null,
   "metadata": {},
   "outputs": [],
   "source": [
    "sample_10 = salaries.sample(10)\n",
    "sample_10.hist(\"salary\")\n",
    "plt.title('Distribution of salary for sample size 10')\n",
    "print(\"Sample SD: \", np.std(sample_10.column(\"salary\")))\n",
    "simulate_sample_mean(salaries, 'salary', 10, 1000)\n",
    "plt.xlim(5,120000);\n",
    "plt.ylim(0, .0001);\n",
    "plt.title('Distribution of sample means for sample size 10');"
   ]
  },
  {
   "cell_type": "code",
   "execution_count": null,
   "metadata": {},
   "outputs": [],
   "source": [
    "sample_200 = salaries.sample(200)\n",
    "sample_200.hist(\"salary\")\n",
    "plt.title('Distribution of salary for sample size 200')\n",
    "print(\"Sample SD: \", np.std(sample_200.column(\"salary\")))\n",
    "simulate_sample_mean(salaries, 'salary', 200, 1000)\n",
    "plt.xlim(5,100000)\n",
    "plt.ylim(0, .00015);\n",
    "plt.title('Distribution of sample means for sample size 200');"
   ]
  },
  {
   "cell_type": "code",
   "execution_count": null,
   "metadata": {},
   "outputs": [],
   "source": [
    "sample_1000 = salaries.sample(1000)\n",
    "sample_1000.hist(\"salary\")\n",
    "plt.title('Distribution of salary for sample size 1000')\n",
    "print(\"Sample SD: \", np.std(sample_1000.column(\"salary\")))\n",
    "simulate_sample_mean(salaries, 'salary', 1000, 1000)\n",
    "plt.xlim(5,100000)\n",
    "plt.ylim(0, .00025);\n",
    "plt.title('Distribution of sample means for sample size 1000');"
   ]
  },
  {
   "cell_type": "markdown",
   "metadata": {},
   "source": [
    "You should notice that the distribution of means gets narrower and spikier, and that the distribution of the sample increasingly looks like the distribution of the population as we get to larger sample sizes. \n",
    "\n",
    "Let's illustrate these trends. Below, you will see how the sample SD changes with respect to sample size (N). The blue line is the population SD."
   ]
  },
  {
   "cell_type": "code",
   "execution_count": null,
   "metadata": {},
   "outputs": [],
   "source": [
    "# Don't change this cell, just run it!\n",
    "pop_sd = np.std(salaries.column('salary'))\n",
    "sample_sds = make_array()\n",
    "sample_sizes = make_array()\n",
    "for i in np.arange(10, 500, 10):\n",
    "    sample_sds = np.append(sample_sds, [np.std(salaries.sample(i).column(\"salary\")) for d in np.arange(100)])\n",
    "    sample_sizes = np.append(sample_sizes, np.ones(100) * i)\n",
    "Table().with_columns(\"Sample SD\", sample_sds, \"N\", sample_sizes).scatter(\"N\", \"Sample SD\")\n",
    "matplotlib.pyplot.axhline(y=pop_sd, color='blue', linestyle='-');"
   ]
  },
  {
   "cell_type": "markdown",
   "metadata": {},
   "source": [
    "The next cell shows how the SD of the sample means changes relative to the sample size (N)."
   ]
  },
  {
   "cell_type": "code",
   "execution_count": null,
   "metadata": {},
   "outputs": [],
   "source": [
    "# Don't change this cell, just run it!\n",
    "def sample_means(sample_size):\n",
    "    means = make_array()\n",
    "    for i in np.arange(1000):\n",
    "        sample = salaries.sample(sample_size).column('salary')\n",
    "        means = np.append(means, np.mean(sample))\n",
    "    return np.std(means)\n",
    "\n",
    "sample_mean_SDs = make_array()\n",
    "for i in np.arange(50, 1000, 100):\n",
    "    sample_mean_SDs = np.append(sample_mean_SDs, sample_means(i))\n",
    "Table().with_columns(\"SD of sample means\", sample_mean_SDs, \"Sample Size\", np.arange(50, 1000, 100))\\\n",
    ".plot(\"Sample Size\", \"SD of sample means\")"
   ]
  },
  {
   "cell_type": "markdown",
   "metadata": {},
   "source": [
    "From these two plots, we can see that the SD of our **sample** approaches the SD of our population as our sample size increases, but the SD of our **sample means** (in other words, the variability of the sample mean) decreases as our sample size increases."
   ]
  },
  {
   "cell_type": "markdown",
   "metadata": {},
   "source": [
    "## What about Bootstrapping?\n",
    "Throughout this lab, we have been taking many random samples from a population. However, all of these principles hold for bootstrapped resamples from a single sample. If your original sample is relatively large, all of your re-samples will also be relatively large, and so the SD of resampled means will be relatively small. \n",
    "\n",
    "In order to change the variability of your sample mean, you’d have to change the size of the original sample from which you are taking bootstrapped resamples.\n",
    "\n",
    "That's it. You've completed Lab 8. There weren't many tests, but there were a lot of points at which you should've stopped and understood exactly what was going on. Consult the textbook or ask your instructor if you have any other questions."
   ]
  },
  {
   "cell_type": "markdown",
   "metadata": {
    "deletable": false,
    "editable": false
   },
   "source": [
    "## Submission\n",
    "\n",
    "Make sure you have run all cells in your notebook in order before running the cell below, so that all images/graphs appear in the output. The cell below will generate a zip file for you to submit. **Please save before exporting!**\n",
    "\n",
    "When done exporting, download the .zip file by finding it in the file browswer on the left side of the screen, then right-click and select **Download**. You'll submit this .zip file for the assignment in Canvas to Gradescope for grading."
   ]
  },
  {
   "cell_type": "code",
   "execution_count": null,
   "metadata": {
    "deletable": false,
    "editable": false
   },
   "outputs": [],
   "source": [
    "# Save your notebook first, then run this cell to export your submission.\n",
    "grader.export(pdf=False, run_tests=True)"
   ]
  },
  {
   "cell_type": "markdown",
   "metadata": {},
   "source": [
    " "
   ]
  }
 ],
 "metadata": {
  "kernelspec": {
   "display_name": "Python 3 (ipykernel)",
   "language": "python",
   "name": "python3"
  },
  "language_info": {
   "codemirror_mode": {
    "name": "ipython",
    "version": 3
   },
   "file_extension": ".py",
   "mimetype": "text/x-python",
   "name": "python",
   "nbconvert_exporter": "python",
   "pygments_lexer": "ipython3",
   "version": "3.11.5"
  },
  "otter": {
   "OK_FORMAT": true,
   "tests": {
    "q10": {
     "name": "q10",
     "points": null,
     "suites": [
      {
       "cases": [
        {
         "code": ">>> SD_of_sample_means in [1, 2, 3, 4]\nTrue",
         "hidden": false,
         "locked": false
        }
       ],
       "scored": true,
       "setup": "",
       "teardown": "",
       "type": "doctest"
      }
     ]
    },
    "q11": {
     "name": "q11",
     "points": null,
     "suites": [
      {
       "cases": [
        {
         "code": ">>> set(pop_vs_sample).issubset(set([1, 2, 3, 4, 5, 6]))\nTrue",
         "hidden": false,
         "locked": false
        }
       ],
       "scored": true,
       "setup": "",
       "teardown": "",
       "type": "doctest"
      }
     ]
    },
    "q2": {
     "name": "q2",
     "points": null,
     "suites": [
      {
       "cases": [
        {
         "code": ">>> mean_median in [1, 2, 3]\nTrue",
         "hidden": false,
         "locked": false
        }
       ],
       "scored": true,
       "setup": "",
       "teardown": "",
       "type": "doctest"
      }
     ]
    },
    "q3": {
     "name": "q3",
     "points": null,
     "suites": [
      {
       "cases": [
        {
         "code": ">>> age_mean < 100\nTrue",
         "hidden": false,
         "locked": false
        },
        {
         "code": ">>> age_sd < 100\nTrue",
         "hidden": false,
         "locked": false
        }
       ],
       "scored": true,
       "setup": "",
       "teardown": "",
       "type": "doctest"
      }
     ]
    },
    "q4": {
     "name": "q4",
     "points": null,
     "suites": [
      {
       "cases": [
        {
         "code": ">>> height_mean < 100\nTrue",
         "hidden": false,
         "locked": false
        },
        {
         "code": ">>> height_sd < 100\nTrue",
         "hidden": false,
         "locked": false
        }
       ],
       "scored": true,
       "setup": "",
       "teardown": "",
       "type": "doctest"
      }
     ]
    },
    "q5": {
     "name": "q5",
     "points": null,
     "suites": [
      {
       "cases": [
        {
         "code": ">>> np.random.seed(123)\n>>> one_sample_mean(salaries, 'salary', 100)\n63684.451699999998",
         "hidden": false,
         "locked": false
        }
       ],
       "scored": true,
       "setup": "",
       "teardown": "",
       "type": "doctest"
      }
     ]
    },
    "q9": {
     "name": "q9",
     "points": null,
     "suites": [
      {
       "cases": [
        {
         "code": ">>> set(q9).issubset(set([1, 2, 3, 4, 5, 6, 7, 8, 9]))\nTrue",
         "hidden": false,
         "locked": false
        }
       ],
       "scored": true,
       "setup": "",
       "teardown": "",
       "type": "doctest"
      }
     ]
    }
   }
  }
 },
 "nbformat": 4,
 "nbformat_minor": 4
}
